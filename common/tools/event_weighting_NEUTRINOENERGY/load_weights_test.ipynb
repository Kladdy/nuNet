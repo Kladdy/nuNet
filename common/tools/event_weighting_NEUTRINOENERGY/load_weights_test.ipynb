{
 "cells": [
  {
   "cell_type": "code",
   "execution_count": 1,
   "metadata": {},
   "outputs": [
    {
     "name": "stdout",
     "output_type": "stream",
     "text": [
      "[16.         16.10344828 16.20689655 16.31034483 16.4137931  16.51724138\n",
      " 16.62068966 16.72413793 16.82758621 16.93103448 17.03448276 17.13793103\n",
      " 17.24137931 17.34482759 17.44827586 17.55172414 17.65517241 17.75862069\n",
      " 17.86206897 17.96551724 18.06896552 18.17241379 18.27586207 18.37931034\n",
      " 18.48275862 18.5862069  18.68965517 18.79310345 18.89655172 19.        ] [ 1.          1.          1.          1.          1.          1.\n",
      "  1.          1.          1.         14.91664045  4.47823213  4.13714884\n",
      "  3.73004012  2.91277641  2.80990756  2.93731417  2.44988634  2.30529898\n",
      "  2.19944341  1.89180563  1.7134598   1.58129919  1.58536993  1.43723101\n",
      "  1.3323593   1.23120862  1.15264949  1.10366336  1.          1.        ] [    0.     0.     0.     0.     0.     0.     0.     0.     0.  3179.\n",
      " 10589. 11462. 12713. 16280. 16876. 16144. 19356. 20570. 21560. 25066.\n",
      " 27675. 29988. 29911. 32994. 35591. 38515. 41140. 42966. 47420.     0.]\n"
     ]
    }
   ],
   "source": [
    "import numpy as np\n",
    "\n",
    "# dataset_to_use = \"ALVAREZ-HAD\"\n",
    "# dataset_to_use = \"ARZ-HAD\"\n",
    "# dataset_to_use = \"ARZ-EM\"\n",
    "\n",
    "# dataset = datasets.Dataset(dataset_name, dataset_em, dataset_noise)\n",
    "# dataset_name = \"ALVAREZ\"\n",
    "# dataset_em = False\n",
    "# dataset_noise = True\n",
    "\n",
    "# dataset_name = \"ARZ\"  \n",
    "# dataset_em = False  \n",
    "# dataset_noise = True\n",
    "\n",
    "dataset_name = \"ARZ\"  \n",
    "dataset_em = True  \n",
    "dataset_noise = True\n",
    "\n",
    "MAX_WEIGHT = 10\n",
    "\n",
    "if dataset_name == \"ALVAREZ\" and dataset_em == False and dataset_noise == True:\n",
    "    dataset_to_use = \"ALVAREZ-HAD\"\n",
    "    \n",
    "if dataset_name == \"ARZ\" and dataset_em == False and dataset_noise == True:\n",
    "    dataset_to_use = \"ARZ-HAD\"\n",
    "\n",
    "if dataset_name == \"ARZ\" and dataset_em == True and dataset_noise == True:\n",
    "    dataset_to_use = \"ARZ-EM\"\n",
    "    \n",
    "with open(f\"{dataset_to_use}_weights.npy\", \"rb\") as f:  \n",
    "    file_contents = np.load(f)\n",
    "    WEIGHTING_energy_list = file_contents[:, 0]\n",
    "    WEIGHTING_weight_list = file_contents[:, 1]\n",
    "    WEIGHTING_count_list = file_contents[:, 2]\n",
    "    \n",
    "print(WEIGHTING_energy_list, WEIGHTING_weight_list, WEIGHTING_count_list)\n",
    "\n",
    "# https://stackoverflow.com/questions/2566412/find-nearest-value-in-numpy-array\n",
    "def find_nearest_and_return_index(array, value):\n",
    "    array = np.asarray(array)\n",
    "    idx = (np.abs(array - value)).argmin()\n",
    "    return idx\n",
    "\n",
    "def get_weight_by_log10_shower_energy(log10_shower_energy):\n",
    "    nearest_idx = find_nearest_and_return_index(WEIGHTING_energy_list, log10_shower_energy)\n",
    "\n",
    "    weight_for_nearest_idx = WEIGHTING_weight_list[nearest_idx]\n",
    "    if weight_for_nearest_idx > MAX_WEIGHT:\n",
    "        return MAX_WEIGHT\n",
    "    else:\n",
    "        return weight_for_nearest_idx\n"
   ]
  },
  {
   "cell_type": "code",
   "execution_count": 2,
   "metadata": {},
   "outputs": [
    {
     "data": {
      "text/plain": [
       "[<matplotlib.lines.Line2D at 0x7fed052e6790>]"
      ]
     },
     "execution_count": 2,
     "metadata": {},
     "output_type": "execute_result"
    },
    {
     "data": {
      "image/png": "[encoded data removed]",
      "text/plain": [
       "<Figure size 432x288 with 1 Axes>"
      ]
     },
     "metadata": {
      "needs_background": "light"
     },
     "output_type": "display_data"
    }
   ],
   "source": [
    "\n",
    "# Generate random numbers in the interval we are looking for (between 16 and 19)\n",
    "random_energy_array = np.random.random(size=200)*3 + 16 \n",
    "weight_array = [get_weight_by_log10_shower_energy(random_energy) for random_energy in random_energy_array]\n",
    "\n",
    "import matplotlib.pyplot as plt\n",
    "plt.plot(random_energy_array, weight_array, \"*\")"
   ]
  },
  {
   "cell_type": "code",
   "execution_count": null,
   "metadata": {},
   "outputs": [],
   "source": []
  }
 ],
 "metadata": {
  "interpreter": {
   "hash": "f00e6b041018f9c5003ba88af84c1401696fe75920157f0e0f441a09854937f6"
  },
  "kernelspec": {
   "display_name": "Python 3.8.5 64-bit ('tf-gpu': conda)",
   "language": "python",
   "name": "python3"
  },
  "language_info": {
   "codemirror_mode": {
    "name": "ipython",
    "version": 3
   },
   "file_extension": ".py",
   "mimetype": "text/x-python",
   "name": "python",
   "nbconvert_exporter": "python",
   "pygments_lexer": "ipython3",
   "version": "3.8.5"
  },
  "orig_nbformat": 4
 },
 "nbformat": 4,
 "nbformat_minor": 2
}
