{
 "cells": [
  {
   "cell_type": "code",
   "execution_count": 1,
   "metadata": {},
   "outputs": [
    {
     "name": "stdout",
     "output_type": "stream",
     "text": [
      "loading file 1\n",
      "finished loading file 1 in 157.17303681373596s\n",
      "loading file 2\n",
      "finished loading file 2 in 16.272849082946777s\n",
      "loading file 3\n",
      "finished loading file 3 in 11.593690395355225s\n",
      "loading file 4\n",
      "finished loading file 4 in 16.62531542778015s\n",
      "loading file 5\n",
      "finished loading file 5 in 51.034613609313965s\n"
     ]
    }
   ],
   "source": [
    "\n",
    "# Imports\n",
    "import matplotlib.pyplot as plt\n",
    "import numpy as np\n",
    "from toolbox import get_pred_energy_diff_data, common_dir, calculate_percentage_interval\n",
    "import sys\n",
    "import argparse\n",
    "import os\n",
    "import time\n",
    "import pickle\n",
    "from NuRadioReco.utilities import units\n",
    "from scipy import stats\n",
    "from radiotools import stats as rtSTATS\n",
    "from mpl_toolkits.mplot3d import Axes3D\n",
    "from itertools import product, combinations\n",
    "from radiotools import plthelpers as php\n",
    "from tensorflow import keras\n",
    "from radiotools import helper as hp\n",
    "import datasets\n",
    "# -------\n",
    "\n",
    "file_ids_to_load = [1, 2, 3, 4, 5]\n",
    "# dataset_to_use = \"ALVAREZ-HAD\"\n",
    "# dataset_to_use = \"ARZ-HAD\"\n",
    "dataset_to_use = \"ARZ-EM\"\n",
    "\n",
    "if dataset_to_use == \"ALVAREZ-HAD\":\n",
    "    dataset_name = \"ALVAREZ\"\n",
    "    dataset_em = False\n",
    "    dataset_noise = True\n",
    "if dataset_to_use == \"ARZ-HAD\":\n",
    "    dataset_name = \"ARZ\"\n",
    "    dataset_em = False\n",
    "    dataset_noise = True\n",
    "if dataset_to_use == \"ARZ-EM\":\n",
    "    dataset_name = \"ARZ\"\n",
    "    dataset_em = True\n",
    "    dataset_noise = True\n",
    "\n",
    "dataset = datasets.Dataset(dataset_name, dataset_em, dataset_noise)\n",
    "\n",
    "# Loading data and label files\n",
    "def load_file(i_file, norm=1e-6):\n",
    "    # Load 500 MHz filter\n",
    "    filt = np.load(f\"{common_dir()}/bandpass_filters/500MHz_filter.npy\")\n",
    "\n",
    "    t0 = time.time()\n",
    "    print(f\"loading file {i_file}\", flush=True)\n",
    "    data = np.load(os.path.join(dataset.datapath, f\"{dataset.data_filename}{i_file:04d}.npy\"), allow_pickle=True)\n",
    "    data = np.fft.irfft(np.fft.rfft(data, axis=-1) * filt, axis=-1)\n",
    "    data = data[:, :, :, np.newaxis]\n",
    "\n",
    "    labels_tmp = np.load(os.path.join(dataset.datapath, f\"{dataset.label_filename}{i_file:04d}.npy\"), allow_pickle=True)\n",
    "    print(f\"finished loading file {i_file} in {time.time() - t0}s\")\n",
    "    \n",
    "    shower_energy_data = np.array(labels_tmp.item()[\"shower_energy\"])\n",
    "\n",
    "    # check for nans and remove them\n",
    "    idx = ~(np.isnan(data))\n",
    "    idx = np.all(idx, axis=1)\n",
    "    idx = np.all(idx, axis=1)\n",
    "    idx = np.all(idx, axis=1)\n",
    "    data = data[idx, :, :, :]\n",
    "    shower_energy_data = shower_energy_data[idx]\n",
    "    data /= norm\n",
    "\n",
    "    # Get log10 of energy\n",
    "    shower_energy_log10 = np.log10(shower_energy_data)\n",
    "\n",
    "    return data, shower_energy_log10\n",
    "\n",
    "\n",
    "# Load test file data\n",
    "    # Load first file\n",
    "data, shower_energy_log10 = load_file(file_ids_to_load[0])\n",
    "\n",
    "    # Then load rest of files\n",
    "if len(file_ids_to_load) > 1:\n",
    "    for test_file_id in file_ids_to_load:\n",
    "        if test_file_id != file_ids_to_load[0]:\n",
    "            data_tmp, shower_energy_log10_tmp = load_file(test_file_id)\n",
    "\n",
    "            data = np.concatenate((data, data_tmp))\n",
    "            shower_energy_log10 = np.concatenate((shower_energy_log10, shower_energy_log10_tmp))\n",
    "\n",
    "\n"
   ]
  },
  {
   "cell_type": "code",
   "execution_count": 2,
   "metadata": {},
   "outputs": [
    {
     "data": {
      "image/png": "[encoded data removed]",
      "text/plain": [
       "<Figure size 432x288 with 1 Axes>"
      ]
     },
     "metadata": {
      "needs_background": "light"
     },
     "output_type": "display_data"
    }
   ],
   "source": [
    "\n",
    "# Create figure\n",
    "fig = plt.figure()\n",
    "\n",
    "# Calculate binned statistics\n",
    "ax = fig.add_subplot(1, 1, 1)\n",
    "nu_energy_bins = np.logspace(np.log10(1e16),np.log10(10**19), 30)\n",
    "nu_energy_bins_with_one_extra = np.append(np.logspace(np.log10(1e16),np.log10(10**19), 30), [1e20])\n",
    "binned_resolution_nu_energy_count = stats.binned_statistic(shower_energy_log10, shower_energy_log10, bins = np.log10(nu_energy_bins_with_one_extra), statistic = \"count\")[0]\n",
    " \n",
    "ax.plot(np.log10(nu_energy_bins), binned_resolution_nu_energy_count, \"*\")\n",
    "# ax.set_ylim(0, 0.4)\n",
    "ax.set_xlabel(\"log10 shower energy\")\n",
    "ax.set_ylabel(\"Events\")\n",
    "# ax.set_xscale('log')\n",
    "\n",
    "fig.tight_layout()\n",
    "plt.title(f\"Count of events inside shower energy bins for dataset {dataset_to_use}\")\n",
    "plt.savefig(f\"{dataset_to_use}_counts_plot.png\")\n",
    "\n",
    "# ___________________________________\n",
    "\n",
    "\n"
   ]
  },
  {
   "cell_type": "code",
   "execution_count": 3,
   "metadata": {},
   "outputs": [
    {
     "data": {
      "image/png": "[encoded data removed]",
      "text/plain": [
       "<Figure size 432x288 with 1 Axes>"
      ]
     },
     "metadata": {
      "needs_background": "light"
     },
     "output_type": "display_data"
    }
   ],
   "source": [
    "# Calculate the weight data\n",
    "max_count = max(binned_resolution_nu_energy_count)\n",
    "weight_vector = [max_count / count_in_bin if count_in_bin != 0 else 1 for count_in_bin in binned_resolution_nu_energy_count ]\n",
    "\n",
    "energy_vector_log10 = np.log10(nu_energy_bins)\n",
    "# Plot the weights so that we can se eit\n",
    "plt.plot(energy_vector_log10, weight_vector)\n",
    "plt.xlabel(\"log10 shower energy\")\n",
    "plt.ylabel(\"weight\")\n",
    "plt.savefig(f\"{dataset_to_use}_weights_plot.png\")\n",
    "\n",
    "energy_weight_count_tuple = [(energy_vector_log10[i], weight_vector[i], binned_resolution_nu_energy_count[i]) for i in range(len(weight_vector))]\n",
    "\n",
    "with open(f\"{dataset_to_use}_weights.npy\", \"wb\") as f:  \n",
    "    np.save(f, energy_weight_count_tuple)"
   ]
  },
  {
   "cell_type": "code",
   "execution_count": null,
   "metadata": {},
   "outputs": [],
   "source": []
  }
 ],
 "metadata": {
  "interpreter": {
   "hash": "f00e6b041018f9c5003ba88af84c1401696fe75920157f0e0f441a09854937f6"
  },
  "kernelspec": {
   "display_name": "Python 3.8.5 64-bit ('tf-gpu': conda)",
   "language": "python",
   "name": "python3"
  },
  "language_info": {
   "codemirror_mode": {
    "name": "ipython",
    "version": 3
   },
   "file_extension": ".py",
   "mimetype": "text/x-python",
   "name": "python",
   "nbconvert_exporter": "python",
   "pygments_lexer": "ipython3",
   "version": "3.8.5"
  },
  "orig_nbformat": 4
 },
 "nbformat": 4,
 "nbformat_minor": 2
}
