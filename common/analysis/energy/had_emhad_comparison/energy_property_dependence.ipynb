{
 "cells": [
  {
   "cell_type": "code",
   "execution_count": 6,
   "metadata": {},
   "outputs": [
    {
     "name": "stdout",
     "output_type": "stream",
     "text": [
      "Plotting resolution as function of neutrino properties for run_EMHAD_vs_HAD...\n",
      "loading file 38\n",
      "finished loading file 38 in 7.949145793914795s\n",
      "loading file 39\n",
      "finished loading file 39 in 7.87317419052124s\n",
      "loading file 40\n",
      "finished loading file 40 in 7.858487129211426s\n",
      "ITS SIXTYEIGHT!\n",
      "Calulating with statistic SIXTYEIGHT...\n"
     ]
    },
    {
     "name": "stderr",
     "output_type": "stream",
     "text": [
      "/tmp/ipykernel_32549/1264464648.py:340: UserWarning: Tight layout not applied. The left and right margins cannot be made large enough to accommodate all axes decorations. \n",
      "  fig_energy.tight_layout()\n",
      "/tmp/ipykernel_32549/1264464648.py:359: UserWarning: Tight layout not applied. The left and right margins cannot be made large enough to accommodate all axes decorations. \n",
      "  fig_energy_count.tight_layout()\n",
      "/tmp/ipykernel_32549/1264464648.py:157: UserWarning: Tight layout not applied. The left and right margins cannot be made large enough to accommodate all axes decorations. \n",
      "  fig_same.tight_layout()  # otherwise the right y-label is slightly clipped\n"
     ]
    },
    {
     "name": "stdout",
     "output_type": "stream",
     "text": [
      "Plotting nu_energy...\n",
      "Plotting nu_azimuth...\n"
     ]
    },
    {
     "name": "stderr",
     "output_type": "stream",
     "text": [
      "/tmp/ipykernel_32549/1264464648.py:157: UserWarning: Tight layout not applied. The left and right margins cannot be made large enough to accommodate all axes decorations. \n",
      "  fig_same.tight_layout()  # otherwise the right y-label is slightly clipped\n"
     ]
    },
    {
     "name": "stdout",
     "output_type": "stream",
     "text": [
      "Plotting nu_zenith...\n"
     ]
    },
    {
     "name": "stderr",
     "output_type": "stream",
     "text": [
      "/tmp/ipykernel_32549/1264464648.py:157: UserWarning: Tight layout not applied. The left and right margins cannot be made large enough to accommodate all axes decorations. \n",
      "  fig_same.tight_layout()  # otherwise the right y-label is slightly clipped\n"
     ]
    },
    {
     "name": "stdout",
     "output_type": "stream",
     "text": [
      "Plotting nu_SNR...\n"
     ]
    },
    {
     "name": "stderr",
     "output_type": "stream",
     "text": [
      "/tmp/ipykernel_32549/1264464648.py:157: UserWarning: Tight layout not applied. The left and right margins cannot be made large enough to accommodate all axes decorations. \n",
      "  fig_same.tight_layout()  # otherwise the right y-label is slightly clipped\n"
     ]
    },
    {
     "name": "stdout",
     "output_type": "stream",
     "text": [
      "Plotting angular resolution depending on properties for run_EMHAD_vs_HAD!\n",
      "\n",
      "Calulating with statistic Mean...\n"
     ]
    },
    {
     "name": "stderr",
     "output_type": "stream",
     "text": [
      "/tmp/ipykernel_32549/1264464648.py:340: UserWarning: Tight layout not applied. The left and right margins cannot be made large enough to accommodate all axes decorations. \n",
      "  fig_energy.tight_layout()\n",
      "/tmp/ipykernel_32549/1264464648.py:359: UserWarning: Tight layout not applied. The left and right margins cannot be made large enough to accommodate all axes decorations. \n",
      "  fig_energy_count.tight_layout()\n"
     ]
    },
    {
     "name": "stdout",
     "output_type": "stream",
     "text": [
      "Plotting nu_energy...\n"
     ]
    },
    {
     "name": "stderr",
     "output_type": "stream",
     "text": [
      "/tmp/ipykernel_32549/1264464648.py:157: UserWarning: Tight layout not applied. The left and right margins cannot be made large enough to accommodate all axes decorations. \n",
      "  fig_same.tight_layout()  # otherwise the right y-label is slightly clipped\n"
     ]
    },
    {
     "name": "stdout",
     "output_type": "stream",
     "text": [
      "Plotting nu_azimuth...\n"
     ]
    },
    {
     "name": "stderr",
     "output_type": "stream",
     "text": [
      "/tmp/ipykernel_32549/1264464648.py:157: UserWarning: Tight layout not applied. The left and right margins cannot be made large enough to accommodate all axes decorations. \n",
      "  fig_same.tight_layout()  # otherwise the right y-label is slightly clipped\n"
     ]
    },
    {
     "name": "stdout",
     "output_type": "stream",
     "text": [
      "Plotting nu_zenith...\n"
     ]
    },
    {
     "name": "stderr",
     "output_type": "stream",
     "text": [
      "/tmp/ipykernel_32549/1264464648.py:157: UserWarning: Tight layout not applied. The left and right margins cannot be made large enough to accommodate all axes decorations. \n",
      "  fig_same.tight_layout()  # otherwise the right y-label is slightly clipped\n"
     ]
    },
    {
     "name": "stdout",
     "output_type": "stream",
     "text": [
      "Plotting nu_SNR...\n"
     ]
    },
    {
     "name": "stderr",
     "output_type": "stream",
     "text": [
      "/tmp/ipykernel_32549/1264464648.py:157: UserWarning: Tight layout not applied. The left and right margins cannot be made large enough to accommodate all axes decorations. \n",
      "  fig_same.tight_layout()  # otherwise the right y-label is slightly clipped\n"
     ]
    },
    {
     "name": "stdout",
     "output_type": "stream",
     "text": [
      "Plotting angular resolution depending on properties for run_EMHAD_vs_HAD!\n",
      "\n",
      "ITS MEDIAN!\n",
      "Calulating with statistic Median...\n"
     ]
    },
    {
     "name": "stderr",
     "output_type": "stream",
     "text": [
      "/tmp/ipykernel_32549/1264464648.py:340: UserWarning: Tight layout not applied. The left and right margins cannot be made large enough to accommodate all axes decorations. \n",
      "  fig_energy.tight_layout()\n",
      "/tmp/ipykernel_32549/1264464648.py:359: UserWarning: Tight layout not applied. The left and right margins cannot be made large enough to accommodate all axes decorations. \n",
      "  fig_energy_count.tight_layout()\n"
     ]
    },
    {
     "name": "stdout",
     "output_type": "stream",
     "text": [
      "Plotting nu_energy...\n"
     ]
    },
    {
     "name": "stderr",
     "output_type": "stream",
     "text": [
      "/tmp/ipykernel_32549/1264464648.py:157: UserWarning: Tight layout not applied. The left and right margins cannot be made large enough to accommodate all axes decorations. \n",
      "  fig_same.tight_layout()  # otherwise the right y-label is slightly clipped\n"
     ]
    },
    {
     "name": "stdout",
     "output_type": "stream",
     "text": [
      "Plotting nu_azimuth...\n"
     ]
    },
    {
     "name": "stderr",
     "output_type": "stream",
     "text": [
      "/tmp/ipykernel_32549/1264464648.py:157: UserWarning: Tight layout not applied. The left and right margins cannot be made large enough to accommodate all axes decorations. \n",
      "  fig_same.tight_layout()  # otherwise the right y-label is slightly clipped\n"
     ]
    },
    {
     "name": "stdout",
     "output_type": "stream",
     "text": [
      "Plotting nu_zenith...\n"
     ]
    },
    {
     "name": "stderr",
     "output_type": "stream",
     "text": [
      "/tmp/ipykernel_32549/1264464648.py:157: UserWarning: Tight layout not applied. The left and right margins cannot be made large enough to accommodate all axes decorations. \n",
      "  fig_same.tight_layout()  # otherwise the right y-label is slightly clipped\n"
     ]
    },
    {
     "name": "stdout",
     "output_type": "stream",
     "text": [
      "Plotting nu_SNR...\n"
     ]
    },
    {
     "name": "stderr",
     "output_type": "stream",
     "text": [
      "/tmp/ipykernel_32549/1264464648.py:157: UserWarning: Tight layout not applied. The left and right margins cannot be made large enough to accommodate all axes decorations. \n",
      "  fig_same.tight_layout()  # otherwise the right y-label is slightly clipped\n"
     ]
    },
    {
     "name": "stdout",
     "output_type": "stream",
     "text": [
      "Plotting angular resolution depending on properties for run_EMHAD_vs_HAD!\n",
      "\n",
      "ITS RMS!!\n",
      "Calulating with statistic RMS...\n"
     ]
    },
    {
     "name": "stderr",
     "output_type": "stream",
     "text": [
      "/tmp/ipykernel_32549/1264464648.py:340: UserWarning: Tight layout not applied. The left and right margins cannot be made large enough to accommodate all axes decorations. \n",
      "  fig_energy.tight_layout()\n",
      "/tmp/ipykernel_32549/1264464648.py:359: UserWarning: Tight layout not applied. The left and right margins cannot be made large enough to accommodate all axes decorations. \n",
      "  fig_energy_count.tight_layout()\n",
      "/tmp/ipykernel_32549/1264464648.py:157: UserWarning: Tight layout not applied. The left and right margins cannot be made large enough to accommodate all axes decorations. \n",
      "  fig_same.tight_layout()  # otherwise the right y-label is slightly clipped\n"
     ]
    },
    {
     "name": "stdout",
     "output_type": "stream",
     "text": [
      "Plotting nu_energy...\n",
      "Plotting nu_azimuth...\n"
     ]
    },
    {
     "name": "stderr",
     "output_type": "stream",
     "text": [
      "/tmp/ipykernel_32549/1264464648.py:157: UserWarning: Tight layout not applied. The left and right margins cannot be made large enough to accommodate all axes decorations. \n",
      "  fig_same.tight_layout()  # otherwise the right y-label is slightly clipped\n"
     ]
    },
    {
     "name": "stdout",
     "output_type": "stream",
     "text": [
      "Plotting nu_zenith...\n"
     ]
    },
    {
     "name": "stderr",
     "output_type": "stream",
     "text": [
      "/tmp/ipykernel_32549/1264464648.py:157: UserWarning: Tight layout not applied. The left and right margins cannot be made large enough to accommodate all axes decorations. \n",
      "  fig_same.tight_layout()  # otherwise the right y-label is slightly clipped\n"
     ]
    },
    {
     "name": "stdout",
     "output_type": "stream",
     "text": [
      "Plotting nu_SNR...\n"
     ]
    },
    {
     "name": "stderr",
     "output_type": "stream",
     "text": [
      "/tmp/ipykernel_32549/1264464648.py:157: UserWarning: Tight layout not applied. The left and right margins cannot be made large enough to accommodate all axes decorations. \n",
      "  fig_same.tight_layout()  # otherwise the right y-label is slightly clipped\n"
     ]
    },
    {
     "name": "stdout",
     "output_type": "stream",
     "text": [
      "Plotting angular resolution depending on properties for run_EMHAD_vs_HAD!\n",
      "\n",
      "ITS STD!\n",
      "Calulating with statistic STD...\n"
     ]
    },
    {
     "name": "stderr",
     "output_type": "stream",
     "text": [
      "/tmp/ipykernel_32549/1264464648.py:340: UserWarning: Tight layout not applied. The left and right margins cannot be made large enough to accommodate all axes decorations. \n",
      "  fig_energy.tight_layout()\n",
      "/tmp/ipykernel_32549/1264464648.py:359: UserWarning: Tight layout not applied. The left and right margins cannot be made large enough to accommodate all axes decorations. \n",
      "  fig_energy_count.tight_layout()\n"
     ]
    },
    {
     "name": "stdout",
     "output_type": "stream",
     "text": [
      "Plotting nu_energy...\n"
     ]
    },
    {
     "name": "stderr",
     "output_type": "stream",
     "text": [
      "/tmp/ipykernel_32549/1264464648.py:157: UserWarning: Tight layout not applied. The left and right margins cannot be made large enough to accommodate all axes decorations. \n",
      "  fig_same.tight_layout()  # otherwise the right y-label is slightly clipped\n"
     ]
    },
    {
     "name": "stdout",
     "output_type": "stream",
     "text": [
      "Plotting nu_azimuth...\n"
     ]
    },
    {
     "name": "stderr",
     "output_type": "stream",
     "text": [
      "/tmp/ipykernel_32549/1264464648.py:157: UserWarning: Tight layout not applied. The left and right margins cannot be made large enough to accommodate all axes decorations. \n",
      "  fig_same.tight_layout()  # otherwise the right y-label is slightly clipped\n"
     ]
    },
    {
     "name": "stdout",
     "output_type": "stream",
     "text": [
      "Plotting nu_zenith...\n"
     ]
    },
    {
     "name": "stderr",
     "output_type": "stream",
     "text": [
      "/tmp/ipykernel_32549/1264464648.py:157: UserWarning: Tight layout not applied. The left and right margins cannot be made large enough to accommodate all axes decorations. \n",
      "  fig_same.tight_layout()  # otherwise the right y-label is slightly clipped\n"
     ]
    },
    {
     "name": "stdout",
     "output_type": "stream",
     "text": [
      "Plotting nu_SNR...\n"
     ]
    },
    {
     "name": "stderr",
     "output_type": "stream",
     "text": [
      "/tmp/ipykernel_32549/1264464648.py:157: UserWarning: Tight layout not applied. The left and right margins cannot be made large enough to accommodate all axes decorations. \n",
      "  fig_same.tight_layout()  # otherwise the right y-label is slightly clipped\n"
     ]
    },
    {
     "name": "stdout",
     "output_type": "stream",
     "text": [
      "Plotting angular resolution depending on properties for run_EMHAD_vs_HAD!\n",
      "\n",
      "Plotting resolution as function of neutrino properties for run_HAD_vs_EMHAD...\n",
      "loading file 47\n",
      "finished loading file 47 in 7.897618293762207s\n",
      "loading file 48\n",
      "finished loading file 48 in 7.923215866088867s\n",
      "loading file 49\n",
      "finished loading file 49 in 7.879213333129883s\n",
      "ITS SIXTYEIGHT!\n",
      "Calulating with statistic SIXTYEIGHT...\n"
     ]
    },
    {
     "name": "stderr",
     "output_type": "stream",
     "text": [
      "/tmp/ipykernel_32549/1264464648.py:340: UserWarning: Tight layout not applied. The left and right margins cannot be made large enough to accommodate all axes decorations. \n",
      "  fig_energy.tight_layout()\n",
      "/tmp/ipykernel_32549/1264464648.py:359: UserWarning: Tight layout not applied. The left and right margins cannot be made large enough to accommodate all axes decorations. \n",
      "  fig_energy_count.tight_layout()\n",
      "/tmp/ipykernel_32549/1264464648.py:157: UserWarning: Tight layout not applied. The left and right margins cannot be made large enough to accommodate all axes decorations. \n",
      "  fig_same.tight_layout()  # otherwise the right y-label is slightly clipped\n"
     ]
    },
    {
     "name": "stdout",
     "output_type": "stream",
     "text": [
      "Plotting nu_energy...\n",
      "Plotting nu_azimuth...\n"
     ]
    },
    {
     "name": "stderr",
     "output_type": "stream",
     "text": [
      "/tmp/ipykernel_32549/1264464648.py:157: UserWarning: Tight layout not applied. The left and right margins cannot be made large enough to accommodate all axes decorations. \n",
      "  fig_same.tight_layout()  # otherwise the right y-label is slightly clipped\n"
     ]
    },
    {
     "name": "stdout",
     "output_type": "stream",
     "text": [
      "Plotting nu_zenith...\n"
     ]
    },
    {
     "name": "stderr",
     "output_type": "stream",
     "text": [
      "/tmp/ipykernel_32549/1264464648.py:157: UserWarning: Tight layout not applied. The left and right margins cannot be made large enough to accommodate all axes decorations. \n",
      "  fig_same.tight_layout()  # otherwise the right y-label is slightly clipped\n"
     ]
    },
    {
     "name": "stdout",
     "output_type": "stream",
     "text": [
      "Plotting nu_SNR...\n"
     ]
    },
    {
     "name": "stderr",
     "output_type": "stream",
     "text": [
      "/tmp/ipykernel_32549/1264464648.py:157: UserWarning: Tight layout not applied. The left and right margins cannot be made large enough to accommodate all axes decorations. \n",
      "  fig_same.tight_layout()  # otherwise the right y-label is slightly clipped\n"
     ]
    },
    {
     "name": "stdout",
     "output_type": "stream",
     "text": [
      "Plotting angular resolution depending on properties for run_HAD_vs_EMHAD!\n",
      "\n",
      "Calulating with statistic Mean...\n"
     ]
    },
    {
     "name": "stderr",
     "output_type": "stream",
     "text": [
      "/tmp/ipykernel_32549/1264464648.py:340: UserWarning: Tight layout not applied. The left and right margins cannot be made large enough to accommodate all axes decorations. \n",
      "  fig_energy.tight_layout()\n",
      "/tmp/ipykernel_32549/1264464648.py:359: UserWarning: Tight layout not applied. The left and right margins cannot be made large enough to accommodate all axes decorations. \n",
      "  fig_energy_count.tight_layout()\n"
     ]
    },
    {
     "name": "stdout",
     "output_type": "stream",
     "text": [
      "Plotting nu_energy...\n"
     ]
    },
    {
     "name": "stderr",
     "output_type": "stream",
     "text": [
      "/tmp/ipykernel_32549/1264464648.py:157: UserWarning: Tight layout not applied. The left and right margins cannot be made large enough to accommodate all axes decorations. \n",
      "  fig_same.tight_layout()  # otherwise the right y-label is slightly clipped\n"
     ]
    },
    {
     "name": "stdout",
     "output_type": "stream",
     "text": [
      "Plotting nu_azimuth...\n"
     ]
    },
    {
     "name": "stderr",
     "output_type": "stream",
     "text": [
      "/tmp/ipykernel_32549/1264464648.py:157: UserWarning: Tight layout not applied. The left and right margins cannot be made large enough to accommodate all axes decorations. \n",
      "  fig_same.tight_layout()  # otherwise the right y-label is slightly clipped\n"
     ]
    },
    {
     "name": "stdout",
     "output_type": "stream",
     "text": [
      "Plotting nu_zenith...\n"
     ]
    },
    {
     "name": "stderr",
     "output_type": "stream",
     "text": [
      "/tmp/ipykernel_32549/1264464648.py:157: UserWarning: Tight layout not applied. The left and right margins cannot be made large enough to accommodate all axes decorations. \n",
      "  fig_same.tight_layout()  # otherwise the right y-label is slightly clipped\n"
     ]
    },
    {
     "name": "stdout",
     "output_type": "stream",
     "text": [
      "Plotting nu_SNR...\n"
     ]
    },
    {
     "name": "stderr",
     "output_type": "stream",
     "text": [
      "/tmp/ipykernel_32549/1264464648.py:157: UserWarning: Tight layout not applied. The left and right margins cannot be made large enough to accommodate all axes decorations. \n",
      "  fig_same.tight_layout()  # otherwise the right y-label is slightly clipped\n"
     ]
    },
    {
     "name": "stdout",
     "output_type": "stream",
     "text": [
      "Plotting angular resolution depending on properties for run_HAD_vs_EMHAD!\n",
      "\n",
      "ITS MEDIAN!\n",
      "Calulating with statistic Median...\n"
     ]
    },
    {
     "name": "stderr",
     "output_type": "stream",
     "text": [
      "/tmp/ipykernel_32549/1264464648.py:340: UserWarning: Tight layout not applied. The left and right margins cannot be made large enough to accommodate all axes decorations. \n",
      "  fig_energy.tight_layout()\n",
      "/tmp/ipykernel_32549/1264464648.py:359: UserWarning: Tight layout not applied. The left and right margins cannot be made large enough to accommodate all axes decorations. \n",
      "  fig_energy_count.tight_layout()\n"
     ]
    },
    {
     "name": "stdout",
     "output_type": "stream",
     "text": [
      "Plotting nu_energy...\n"
     ]
    },
    {
     "name": "stderr",
     "output_type": "stream",
     "text": [
      "/tmp/ipykernel_32549/1264464648.py:157: UserWarning: Tight layout not applied. The left and right margins cannot be made large enough to accommodate all axes decorations. \n",
      "  fig_same.tight_layout()  # otherwise the right y-label is slightly clipped\n"
     ]
    },
    {
     "name": "stdout",
     "output_type": "stream",
     "text": [
      "Plotting nu_azimuth...\n"
     ]
    },
    {
     "name": "stderr",
     "output_type": "stream",
     "text": [
      "/tmp/ipykernel_32549/1264464648.py:157: UserWarning: Tight layout not applied. The left and right margins cannot be made large enough to accommodate all axes decorations. \n",
      "  fig_same.tight_layout()  # otherwise the right y-label is slightly clipped\n"
     ]
    },
    {
     "name": "stdout",
     "output_type": "stream",
     "text": [
      "Plotting nu_zenith...\n"
     ]
    },
    {
     "name": "stderr",
     "output_type": "stream",
     "text": [
      "/tmp/ipykernel_32549/1264464648.py:157: UserWarning: Tight layout not applied. The left and right margins cannot be made large enough to accommodate all axes decorations. \n",
      "  fig_same.tight_layout()  # otherwise the right y-label is slightly clipped\n"
     ]
    },
    {
     "name": "stdout",
     "output_type": "stream",
     "text": [
      "Plotting nu_SNR...\n"
     ]
    },
    {
     "name": "stderr",
     "output_type": "stream",
     "text": [
      "/tmp/ipykernel_32549/1264464648.py:157: UserWarning: Tight layout not applied. The left and right margins cannot be made large enough to accommodate all axes decorations. \n",
      "  fig_same.tight_layout()  # otherwise the right y-label is slightly clipped\n"
     ]
    },
    {
     "name": "stdout",
     "output_type": "stream",
     "text": [
      "Plotting angular resolution depending on properties for run_HAD_vs_EMHAD!\n",
      "\n",
      "ITS RMS!!\n",
      "Calulating with statistic RMS...\n"
     ]
    },
    {
     "name": "stderr",
     "output_type": "stream",
     "text": [
      "/tmp/ipykernel_32549/1264464648.py:340: UserWarning: Tight layout not applied. The left and right margins cannot be made large enough to accommodate all axes decorations. \n",
      "  fig_energy.tight_layout()\n",
      "/tmp/ipykernel_32549/1264464648.py:359: UserWarning: Tight layout not applied. The left and right margins cannot be made large enough to accommodate all axes decorations. \n",
      "  fig_energy_count.tight_layout()\n"
     ]
    },
    {
     "name": "stdout",
     "output_type": "stream",
     "text": [
      "Plotting nu_energy...\n"
     ]
    },
    {
     "name": "stderr",
     "output_type": "stream",
     "text": [
      "/tmp/ipykernel_32549/1264464648.py:157: UserWarning: Tight layout not applied. The left and right margins cannot be made large enough to accommodate all axes decorations. \n",
      "  fig_same.tight_layout()  # otherwise the right y-label is slightly clipped\n"
     ]
    },
    {
     "name": "stdout",
     "output_type": "stream",
     "text": [
      "Plotting nu_azimuth...\n"
     ]
    },
    {
     "name": "stderr",
     "output_type": "stream",
     "text": [
      "/tmp/ipykernel_32549/1264464648.py:157: UserWarning: Tight layout not applied. The left and right margins cannot be made large enough to accommodate all axes decorations. \n",
      "  fig_same.tight_layout()  # otherwise the right y-label is slightly clipped\n"
     ]
    },
    {
     "name": "stdout",
     "output_type": "stream",
     "text": [
      "Plotting nu_zenith...\n"
     ]
    },
    {
     "name": "stderr",
     "output_type": "stream",
     "text": [
      "/tmp/ipykernel_32549/1264464648.py:157: UserWarning: Tight layout not applied. The left and right margins cannot be made large enough to accommodate all axes decorations. \n",
      "  fig_same.tight_layout()  # otherwise the right y-label is slightly clipped\n"
     ]
    },
    {
     "name": "stdout",
     "output_type": "stream",
     "text": [
      "Plotting nu_SNR...\n"
     ]
    },
    {
     "name": "stderr",
     "output_type": "stream",
     "text": [
      "/tmp/ipykernel_32549/1264464648.py:157: UserWarning: Tight layout not applied. The left and right margins cannot be made large enough to accommodate all axes decorations. \n",
      "  fig_same.tight_layout()  # otherwise the right y-label is slightly clipped\n"
     ]
    },
    {
     "name": "stdout",
     "output_type": "stream",
     "text": [
      "Plotting angular resolution depending on properties for run_HAD_vs_EMHAD!\n",
      "\n",
      "ITS STD!\n",
      "Calulating with statistic STD...\n"
     ]
    },
    {
     "name": "stderr",
     "output_type": "stream",
     "text": [
      "/tmp/ipykernel_32549/1264464648.py:340: UserWarning: Tight layout not applied. The left and right margins cannot be made large enough to accommodate all axes decorations. \n",
      "  fig_energy.tight_layout()\n",
      "/tmp/ipykernel_32549/1264464648.py:359: UserWarning: Tight layout not applied. The left and right margins cannot be made large enough to accommodate all axes decorations. \n",
      "  fig_energy_count.tight_layout()\n"
     ]
    },
    {
     "name": "stdout",
     "output_type": "stream",
     "text": [
      "Plotting nu_energy...\n"
     ]
    },
    {
     "name": "stderr",
     "output_type": "stream",
     "text": [
      "/tmp/ipykernel_32549/1264464648.py:157: UserWarning: Tight layout not applied. The left and right margins cannot be made large enough to accommodate all axes decorations. \n",
      "  fig_same.tight_layout()  # otherwise the right y-label is slightly clipped\n"
     ]
    },
    {
     "name": "stdout",
     "output_type": "stream",
     "text": [
      "Plotting nu_azimuth...\n"
     ]
    },
    {
     "name": "stderr",
     "output_type": "stream",
     "text": [
      "/tmp/ipykernel_32549/1264464648.py:157: UserWarning: Tight layout not applied. The left and right margins cannot be made large enough to accommodate all axes decorations. \n",
      "  fig_same.tight_layout()  # otherwise the right y-label is slightly clipped\n"
     ]
    },
    {
     "name": "stdout",
     "output_type": "stream",
     "text": [
      "Plotting nu_zenith...\n"
     ]
    },
    {
     "name": "stderr",
     "output_type": "stream",
     "text": [
      "/tmp/ipykernel_32549/1264464648.py:157: UserWarning: Tight layout not applied. The left and right margins cannot be made large enough to accommodate all axes decorations. \n",
      "  fig_same.tight_layout()  # otherwise the right y-label is slightly clipped\n"
     ]
    },
    {
     "name": "stdout",
     "output_type": "stream",
     "text": [
      "Plotting nu_SNR...\n"
     ]
    },
    {
     "name": "stderr",
     "output_type": "stream",
     "text": [
      "/tmp/ipykernel_32549/1264464648.py:157: UserWarning: Tight layout not applied. The left and right margins cannot be made large enough to accommodate all axes decorations. \n",
      "  fig_same.tight_layout()  # otherwise the right y-label is slightly clipped\n"
     ]
    },
    {
     "name": "stdout",
     "output_type": "stream",
     "text": [
      "Plotting angular resolution depending on properties for run_HAD_vs_EMHAD!\n",
      "\n"
     ]
    }
   ],
   "source": [
    "\n",
    "# Imports\n",
    "import matplotlib.pyplot as plt\n",
    "import numpy as np\n",
    "from toolbox import get_pred_energy_diff_data, calculate_percentage_interval, common_dir\n",
    "import sys\n",
    "import argparse\n",
    "import os\n",
    "import time\n",
    "import pickle\n",
    "from NuRadioReco.utilities import units\n",
    "from scipy import stats\n",
    "from radiotools import stats as rtSTATS\n",
    "from mpl_toolkits.mplot3d import Axes3D\n",
    "from itertools import product, combinations\n",
    "from radiotools import plthelpers as php\n",
    "from tensorflow import keras\n",
    "from radiotools import helper as hp\n",
    "import datasets\n",
    "# -------\n",
    "\n",
    "# (MODEL, DATASET)\n",
    "comparisons = [\n",
    "    (\"EMHAD\", \"HAD\"),\n",
    "    (\"HAD\", \"EMHAD\")\n",
    "]\n",
    "\n",
    "for model_tag, dataset_tag in comparisons:\n",
    "    prediction_file = \"runE9.1/model.runE9.1.h5_predicted.pkl\" if model_tag == \"HAD\" else \"runE13.1/model.runE13.1.h5_predicted.pkl\"\n",
    "\n",
    "    project_name = \"nu-dir-reco\"\n",
    "    # run_version = \"runF1\"\n",
    "    dataset_name = \"SouthPole\"\n",
    "\n",
    "    # Dataset setup\n",
    "    # Call Dataset(dataset_name, em, noise) with\n",
    "    #     dataset_name:\n",
    "    #         ALVAREZ (only had + noise) / ARZ\n",
    "    #     em:\n",
    "    #         True / False (default)\n",
    "    #     noise:\n",
    "    #         True (default) / False\n",
    "    dataset_name = \"ARZ\"\n",
    "    dataset_em = False if dataset_tag == \"HAD\" else True\n",
    "    dataset_noise = True\n",
    "\n",
    "    dataset = datasets.Dataset(dataset_name, dataset_em, dataset_noise)\n",
    "\n",
    "    test_file_ids = dataset.test_file_ids\n",
    "    datapath = dataset.datapath\n",
    "    data_filename = dataset.data_filename\n",
    "    label_filename = dataset.label_filename\n",
    "    n_files = dataset.n_files\n",
    "    n_files_val = dataset.n_files_val\n",
    "\n",
    "    # Directories\n",
    "    plots_dir = \"plots\"\n",
    "    saved_model_dir = \"runE9.1\" if dataset_tag == \"HAD\" else \"runE13.1\"\n",
    "\n",
    "\n",
    "    # Loading data and label files and also other properties\n",
    "    def load_file_all_properties(i_file, norm=1e-6):\n",
    "        t0 = time.time()\n",
    "        print(f\"loading file {i_file}\", flush=True)\n",
    "\n",
    "        # Load 500 MHz filter\n",
    "        filt = np.load(f\"{common_dir()}/bandpass_filters/500MHz_filter.npy\")\n",
    "\n",
    "        data = np.load(os.path.join(dataset.datapath, f\"{dataset.data_filename}{i_file:04d}.npy\"), allow_pickle=True)\n",
    "        data = np.fft.irfft(np.fft.rfft(data, axis=-1) * filt, axis=-1)\n",
    "        data = data[:, :, :, np.newaxis]\n",
    "        \n",
    "        labels_tmp = np.load(os.path.join(dataset.datapath, f\"{dataset.label_filename}{i_file:04d}.npy\"), allow_pickle=True)\n",
    "        print(f\"finished loading file {i_file} in {time.time() - t0}s\")\n",
    "        nu_zenith_data = np.array(labels_tmp.item()[\"nu_zenith\"])\n",
    "        nu_azimuth_data = np.array(labels_tmp.item()[\"nu_azimuth\"])\n",
    "        nu_direction_data = hp.spherical_to_cartesian(nu_zenith_data, nu_azimuth_data)\n",
    "\n",
    "        nu_energy_data = np.array(labels_tmp.item()[\"nu_energy\"])\n",
    "        nu_flavor_data = np.array(labels_tmp.item()[\"nu_flavor\"])\n",
    "        shower_energy_data = np.array(labels_tmp.item()[\"shower_energy\"])\n",
    "\n",
    "        # check for nans and remove them\n",
    "        idx = ~(np.isnan(data))\n",
    "        idx = np.all(idx, axis=1)\n",
    "        idx = np.all(idx, axis=1)\n",
    "        idx = np.all(idx, axis=1)\n",
    "        data = data[idx, :, :, :]\n",
    "        data /= norm\n",
    "\n",
    "        nu_zenith_data = nu_zenith_data[idx]\n",
    "        nu_azimuth_data = nu_azimuth_data[idx]\n",
    "        nu_direction_data = nu_direction_data[idx]\n",
    "        nu_energy_data = nu_energy_data[idx]\n",
    "        nu_flavor_data = nu_flavor_data[idx]\n",
    "        shower_energy_data = shower_energy_data[idx]\n",
    "\n",
    "        return data, nu_direction_data, nu_zenith_data, nu_azimuth_data, nu_energy_data, nu_flavor_data, shower_energy_data\n",
    "\n",
    "\n",
    "    def plot_same(x_data, ax1_data_y, ax2_data_y):\n",
    "        print(f\"Plotting {file_name}...\")\n",
    "\n",
    "        fig_same, ax1 = plt.subplots()\n",
    "\n",
    "        ax1.set_xlabel(x_label)\n",
    "        ax1.set_ylabel(ax1_y_label)\n",
    "\n",
    "        # Set ax1 to high order to make it be in front so label is in front, and datapoints\n",
    "        #ax1.set_zorder(1)\n",
    "\n",
    "        if file_name == \"nu_energy\":\n",
    "            ax1.set_xscale('log')\n",
    "\n",
    "        # Remove last peices of data as their bins are weird for some azimuth\n",
    "        if file_name == \"nu_energy\" or file_name == \"nu_azimuth\" or file_name == \"nu_SNR\":\n",
    "            x_data = x_data[0:-1]\n",
    "            ax1_data_y = ax1_data_y[0:-1]\n",
    "            ax2_data_y = ax2_data_y[0:-1]\n",
    "\n",
    "        # Remove any bins with zero events for nu_zenith\n",
    "        if file_name == \"nu_zenith\":\n",
    "            ind_count_not_0 = ax2_data_y != 0\n",
    "            x_data = x_data[ind_count_not_0]\n",
    "            ax1_data_y = ax1_data_y[ind_count_not_0]\n",
    "            ax2_data_y = ax2_data_y[ind_count_not_0]\n",
    "\n",
    "        lns1 = ax1.plot(x_data, ax1_data_y, \"*\", color=ax1_color, label = ax1_y_label)\n",
    "\n",
    "        ax2 = ax1.twinx()  # instantiate a second axes that shares the same x-axis\n",
    "\n",
    "        ax2.set_ylabel(ax2_y_label) # we already handled the x-label with ax1\n",
    "        lns2 = ax2.plot(x_data, ax2_data_y, \"^\", color=ax2_color, label = ax2_y_label)\n",
    "\n",
    "        # Set axis limits so they are same on all plots\n",
    "        if file_name == \"nu_energy\":\n",
    "            ax1.set_ylim(0, 13.5)\n",
    "            ax2.set_ylim(0, 27000)\n",
    "        elif file_name == \"nu_SNR\":\n",
    "            ax2.set_yscale('log')\n",
    "            ax1.set_ylim(0, 22.5)\n",
    "            ax2.set_ylim(9, 2e5)\n",
    "        elif file_name == \"nu_zenith\":\n",
    "            ax2.set_yscale('log')\n",
    "            ax1.set_ylim(0, 40)\n",
    "            ax2.set_ylim(1.1, 300000)\n",
    "        elif file_name == \"nu_azimuth\":\n",
    "            ax1.set_ylim(0, 8)\n",
    "            ax2.set_ylim(0, 13500)\n",
    "\n",
    "        plt.title(plot_title)\n",
    "\n",
    "        # added these three lines\n",
    "        lns = lns1+lns2\n",
    "        labs = [l.get_label() for l in lns]\n",
    "        ax1.legend(lns, labs, loc=legend_loc)\n",
    "\n",
    "        fig_same.tight_layout()  # otherwise the right y-label is slightly clipped\n",
    "\n",
    "        #plt.subplots_adjust(top=0.88)\n",
    "        if eps:\n",
    "            fig_same.savefig(f\"{plot_dir}/sigma68_{file_name}_same_{run_name}_statistic_{statistic_string}.eps\", format=\"eps\", bbox_inches='tight')\n",
    "        else:\n",
    "            fig_same.savefig(f\"{plot_dir}/sigma68_{file_name}_same_{run_name}_statistic_{statistic_string}.png\", bbox_inches='tight')\n",
    "\n",
    "\n",
    "    # # Parse arguments\n",
    "    # parser = argparse.ArgumentParser(description='Plot performance data')\n",
    "    # parser.add_argument('--eps', dest='eps', action='store_true', help=\"flag to image as .eps instead of .png\")\n",
    "    # parser.add_argument('--median', dest='median', action='store_true', help=\"flag to do median instead of mean\")\n",
    "    # parser.add_argument('--sixtyeight', dest='sixtyeight', action='store_true', help=\"flag to do 68 percent interval\")\n",
    "    # parser.set_defaults(eps=False)\n",
    "    # parser.set_defaults(median=False)\n",
    "    # parser.set_defaults(sixtyeight=False)\n",
    "\n",
    "    plots_dir = \"plots\"\n",
    "\n",
    "    # args = parser.parse_args()\n",
    "    eps = False\n",
    "\n",
    "\n",
    "\n",
    "    # run_names = [\"runE12.1\", \"runE9.1\", \"runE13.1\"]\n",
    "    # emission_models = [\"Alvarez2009 (had.)\", \"ARZ2020 (had.)\", \"ARZ2020 (had. + EM)\"]\n",
    "\n",
    "    # dataset_run = \"E12.1\"\n",
    "    # dataset_run = \"E9.1\"\n",
    "    # dataset_run = \"E13.1\"\n",
    "\n",
    "\n",
    "    # Dataset setup\n",
    "    # Call Dataset(dataset_name, em, noise) with\n",
    "    #     dataset_name:\n",
    "    #         ALVAREZ (only had + noise) / ARZ\n",
    "    #     em:\n",
    "    #         True / False (default)\n",
    "    #     noise:\n",
    "    #         True (default) / False\n",
    "\n",
    "    # if dataset_run == \"E12.1\":\n",
    "    #     dataset_name = \"ALVAREZ\"\n",
    "    #     dataset_em = False\n",
    "    #     dataset_noise = True\n",
    "    # if dataset_run == \"E9.1\":\n",
    "    #     dataset_name = \"ARZ\"\n",
    "    #     dataset_em = False\n",
    "    #     dataset_noise = True\n",
    "    # if dataset_run == \"E13.1\":\n",
    "    #     dataset_name = \"ARZ\"\n",
    "    #     dataset_em = True\n",
    "    #     dataset_noise = True\n",
    "\n",
    "\n",
    "    # dataset = datasets.Dataset(dataset_name, dataset_em, dataset_noise)\n",
    "\n",
    "    test_file_ids = dataset.test_file_ids\n",
    "    # datapath = dataset.datapath\n",
    "    # data_filename = dataset.data_filename\n",
    "    # label_filename = dataset.label_filename\n",
    "    # n_files = dataset.n_files\n",
    "    # n_files_val = dataset.n_files_val\n",
    "\n",
    "    plots_dir = \"plots\"\n",
    "\n",
    "\n",
    "    # Save the run name\n",
    "    run_name = f\"run_{model_tag}_vs_{dataset_tag}\"\n",
    "    if run_name == \"run_HAD_vs_EMHAD\":\n",
    "        emission_model = \"ARZ2020 (had. model, had. + EM dataset)\"\n",
    "    elif run_name == \"run_EMHAD_vs_HAD\":\n",
    "        emission_model = \"ARZ2020 (had. + EM model, had. dataset)\"\n",
    "    else: raise Exception()\n",
    "\n",
    "    print(f\"Plotting resolution as function of neutrino properties for {run_name}...\")\n",
    "\n",
    "    # # Define 68 % interval statistic function\n",
    "    # def calculate_percentage_interval(angle_difference_data):\n",
    "    #     percentage=0.68\n",
    "    #     N = angle_difference_data.size\n",
    "    #     weights = np.ones(N)\n",
    "\n",
    "    #     angle = rtSTATS.quantile_1d(angle_difference_data, weights, percentage)\n",
    "\n",
    "    #     return angle\n",
    "\n",
    "\n",
    "\n",
    "    # Make sure plots folder exists\n",
    "    if not os.path.exists(plots_dir):\n",
    "        os.makedirs(plots_dir)\n",
    "\n",
    "    plot_dir = f\"plots/{run_name}_plots\"\n",
    "\n",
    "    # Make sure folder inside plot_folder exists for the plots\n",
    "    if not os.path.exists(plot_dir):\n",
    "        os.makedirs(plot_dir)\n",
    "\n",
    "    # # Make sure predicted file exists, otherwise run evaluator\n",
    "    # prediction_file = f'{plots_dir}/model.{run_name}.h5_predicted.pkl'\n",
    "    # if not os.path.isfile(prediction_file):\n",
    "    #     print(\"Prediction file does not exist, running evaluator...\")\n",
    "    #     os.system(f\"python evaluator.py\")\n",
    "\n",
    "    # Load test file data\n",
    "        # Load first file\n",
    "    data, nu_direction, nu_zenith, nu_azimuth, nu_energy, nu_flavor, shower_energy = load_file_all_properties(test_file_ids[0])\n",
    "\n",
    "        # Then load rest of files\n",
    "    if len(test_file_ids) > 1:\n",
    "        for test_file_id in test_file_ids:\n",
    "            if test_file_id != test_file_ids[0]:\n",
    "                data_tmp, nu_direction_tmp, nu_zenith_tmp, nu_azimuth_tmp, nu_energy_tmp, nu_flavor_tmp, shower_energy_tmp = load_file_all_properties(test_file_id)\n",
    "\n",
    "                data = np.concatenate((data, data_tmp))\n",
    "                nu_direction = np.concatenate((nu_direction, nu_direction_tmp))\n",
    "                nu_zenith = np.concatenate((nu_zenith, nu_zenith_tmp))\n",
    "                nu_azimuth = np.concatenate((nu_azimuth, nu_azimuth_tmp))\n",
    "                nu_energy = np.concatenate((nu_energy, nu_energy_tmp))\n",
    "                nu_flavor = np.concatenate((nu_flavor, nu_flavor_tmp))\n",
    "                shower_energy = np.concatenate((shower_energy, shower_energy_tmp))\n",
    "\n",
    "\n",
    "\n",
    "\n",
    "    def calculate_rms(data_to_calcualte):\n",
    "        return np.sqrt(np.mean(data_to_calcualte**2))\n",
    "\n",
    "    # See which statistic to calculate...\n",
    "    for statistic_string in [\"SIXTYEIGHT\", \"Mean\", \"Median\", \"RMS\", \"STD\"]:\n",
    "        if statistic_string == \"Median\":\n",
    "            print(\"ITS MEDIAN!\")\n",
    "            statistic = \"median\"\n",
    "            statistic_string = \"Median\"\n",
    "        elif statistic_string == \"RMS\":\n",
    "            print(\"ITS RMS!!\")\n",
    "            statistic = calculate_rms\n",
    "            statistic_string = \"RMS\"\n",
    "        elif statistic_string == \"SIXTYEIGHT\":\n",
    "            print(\"ITS SIXTYEIGHT!\")\n",
    "            statistic = calculate_percentage_interval\n",
    "            statistic_string = \"SIXTYEIGHT\"\n",
    "        elif statistic_string == \"STD\":\n",
    "            print(\"ITS STD!\")\n",
    "            statistic = \"std\"\n",
    "            statistic_string = \"STD\"\n",
    "        elif statistic_string == \"Mean\":\n",
    "            statistic = \"mean\"\n",
    "            statistic_string = \"Mean\"\n",
    "\n",
    "        print(f\"Calulating with statistic {statistic_string}...\")\n",
    "\n",
    "        # Get angle difference data\n",
    "        # angle_difference_data is actually energy difference data\n",
    "        angle_difference_data = get_pred_energy_diff_data(run_name, prediction_file)\n",
    "\n",
    "        sigma_68_string = \"_{68}\"\n",
    "\n",
    "        # --------- Energy plotting ---------\n",
    "        # Create figure\n",
    "        fig_energy = plt.figure()\n",
    "\n",
    "        # Calculate binned statistics\n",
    "        ax = fig_energy.add_subplot(1, 1, 1)\n",
    "        shower_energy_bins = np.logspace(np.log10(10**(16.5)),np.log10(10**19), 30)\n",
    "        shower_energy_bins_with_one_extra = np.append(np.logspace(np.log10(10**(16.5)),np.log10(10**19), 30), [1e20])\n",
    "        binned_resolution_shower_energy = stats.binned_statistic(shower_energy, angle_difference_data, bins = shower_energy_bins_with_one_extra, statistic=statistic)[0]\n",
    "\n",
    "        ax.plot(shower_energy_bins, binned_resolution_shower_energy, \"*\", color=\"darkorange\")\n",
    "        # ax.set_ylim(0, 0.4)\n",
    "        ax.set_xlabel(r\"True $\\nu$ energy (eV)\")\n",
    "        ax.set_ylabel(r\"Mean $\\sigma_{68}$ in bin\")\n",
    "        ax.set_xscale('log')\n",
    "\n",
    "\n",
    "        # ax = fig_energy.add_subplot(1, 2, 2)\n",
    "        # ax.plot(nu_energy, angle_difference_data, 'o')\n",
    "        # ax.set_xscale('log')\n",
    "\n",
    "\n",
    "        plt.title(fr\"Mean value of $\\sigma{sigma_68_string}$ as a function of $\\nu$ energy for dataset {emission_model}\")\n",
    "        fig_energy.tight_layout()\n",
    "        fig_energy.savefig(f\"{plot_dir}/{statistic_string}_resolution_nu_energy_{run_name}.png\")\n",
    "        # ___________________________________\n",
    "\n",
    "        # --------- Energy count plotting ---------\n",
    "        # Create figure\n",
    "        fig_energy_count = plt.figure()\n",
    "\n",
    "        # Calculate binned statistics\n",
    "        ax = fig_energy_count.add_subplot(1, 1, 1)\n",
    "        binned_resolution_shower_energy_count = stats.binned_statistic(shower_energy, angle_difference_data, bins = shower_energy_bins_with_one_extra, statistic = \"count\")[0]\n",
    "        \n",
    "        ax.plot(shower_energy_bins, binned_resolution_shower_energy_count, \"*\")\n",
    "        # ax.set_ylim(0, 0.4)\n",
    "        ax.set_xlabel(r\"True $\\nu$ energy (eV)\")\n",
    "        ax.set_ylabel(\"Events\")\n",
    "        ax.set_xscale('log')\n",
    "\n",
    "        plt.title(fr\"Count of events inside $\\nu$ energy bins for dataset {emission_model}\")\n",
    "        fig_energy_count.tight_layout()\n",
    "        fig_energy_count.savefig(f\"{plot_dir}/{statistic_string}_resolution_nu_energy_count_{run_name}.png\")\n",
    "        # ___________________________________\n",
    "\n",
    "        # Energy resolution & count on same axis\n",
    "        # Constants:\n",
    "        ax1_color = 'tab:blue'\n",
    "        ax2_color = 'tab:orange'\n",
    "        x_label = r\"True $\\nu$ energy (eV)\"\n",
    "        ax1_y_label = fr\"$\\sigma{sigma_68_string}$ in bin\"\n",
    "        ax2_y_label = \"Events\"\n",
    "\n",
    "        x_data = shower_energy_bins\n",
    "        ax1_data_y = binned_resolution_shower_energy\n",
    "        ax2_data_y = binned_resolution_shower_energy_count\n",
    "\n",
    "        file_name = \"nu_energy\"\n",
    "        plot_title_1 = fr\"Value of $\\sigma{sigma_68_string}$ as a function of $\\nu$ energy\"\n",
    "        plot_title_2 = fr\"count of events inside $\\nu$ energy bins for dataset {emission_model}\"\n",
    "        plot_title = plot_title_1 + \", and\\n\" + plot_title_2\n",
    "        legend_loc = \"upper center\"\n",
    "        # Constants END\n",
    "\n",
    "        plot_same(x_data, ax1_data_y, ax2_data_y)\n",
    "        # ______________________________________\n",
    "\n",
    "\n",
    "        # --------- Azimuth plotting ---------\n",
    "        # Create figure\n",
    "        fig_azimuth = plt.figure()\n",
    "\n",
    "        # Calculate binned statistics\n",
    "        ax = fig_azimuth.add_subplot(1, 1, 1)\n",
    "        nu_azimuth_bins = np.linspace(0,np.deg2rad(360), 30)\n",
    "        nu_azimuth_bins_with_one_extra = np.append(np.linspace(0,np.deg2rad(360), 30), 2*np.pi+1)\n",
    "        binned_resolution_nu_azimuth = stats.binned_statistic(nu_azimuth, angle_difference_data, bins = nu_azimuth_bins_with_one_extra, statistic=statistic)[0]\n",
    "\n",
    "        ax.plot(nu_azimuth_bins / units.deg, binned_resolution_nu_azimuth, \"o\")\n",
    "        # ax.set_ylim(0, 0.4)\n",
    "        ax.set_xlabel(\"true neutrino direction azimuth angle\")\n",
    "        ax.set_ylabel(\"angular resolution\")\n",
    "\n",
    "\n",
    "        plt.title(f\"Mean resolution as a function of nu_azimuth for {run_name}\")\n",
    "        fig_azimuth.tight_layout()\n",
    "        fig_azimuth.savefig(f\"{plot_dir}/{statistic_string}_resolution_nu_azimuth_{run_name}.png\")\n",
    "        # ___________________________________\n",
    "\n",
    "        # --------- Azimuth count plotting ---------\n",
    "        # Create figure\n",
    "        fig_azimuth_count = plt.figure()\n",
    "\n",
    "        # Calculate binned statistics\n",
    "        ax = fig_azimuth_count.add_subplot(1, 1, 1)\n",
    "\n",
    "        binned_resolution_nu_azimuth_count = stats.binned_statistic(nu_azimuth, angle_difference_data, bins = nu_azimuth_bins_with_one_extra, statistic = \"count\")[0]\n",
    "\n",
    "        ax.plot(nu_azimuth_bins / units.deg, binned_resolution_nu_azimuth_count, \"o\")\n",
    "        # ax.set_ylim(0, 0.4)\n",
    "        ax.set_xlabel(\"true neutrino direction azimuth angle\")\n",
    "        ax.set_ylabel(\"count\")\n",
    "\n",
    "\n",
    "        plt.title(f\"Count of events inside bins as a function of nu_azimuth for {run_name}\")\n",
    "        fig_azimuth_count.tight_layout()\n",
    "        fig_azimuth_count.savefig(f\"{plot_dir}/{statistic_string}_resolution_nu_azimuth_count_{run_name}.png\")\n",
    "        # ___________________________________\n",
    "\n",
    "        # Azimuth resolution & count on same axis\n",
    "        # Constants:\n",
    "        x_label = r\"True $\\nu$ azimuth angle\"\n",
    "        ax1_y_label = fr\"$\\sigma{sigma_68_string}$ in bin\"\n",
    "        ax2_y_label = \"Events\"\n",
    "\n",
    "        x_data = nu_azimuth_bins / units.deg\n",
    "        ax1_data_y = binned_resolution_nu_azimuth\n",
    "        ax2_data_y = binned_resolution_nu_azimuth_count\n",
    "\n",
    "        file_name = \"nu_azimuth\"\n",
    "        plot_title_1 = fr\"Value of $\\sigma{sigma_68_string}$ as a function of $\\nu$ azimuth angle\"\n",
    "        plot_title_2 = fr\"count of events inside $\\nu$ azimuth angle bins for dataset {emission_model}\"\n",
    "        plot_title = plot_title_1 + \", and\\n\" + plot_title_2\n",
    "        legend_loc = \"upper left\"\n",
    "        # Constants END\n",
    "\n",
    "        plot_same(x_data, ax1_data_y, ax2_data_y)\n",
    "        # ______________________________________\n",
    "\n",
    "\n",
    "\n",
    "        # --------- Zenith plotting ---------\n",
    "        # Create figure\n",
    "        fig_zenith = plt.figure()\n",
    "\n",
    "        # Calculate binned statistics\n",
    "        ax = fig_zenith.add_subplot(1, 1, 1)\n",
    "        nu_zenith_bins = np.linspace(0,np.pi, 30)\n",
    "        nu_zenith_bins_with_one_extra = np.append(np.linspace(0,np.pi, 30), np.pi+1)\n",
    "        binned_resolution_nu_zenith = stats.binned_statistic(nu_zenith, angle_difference_data, bins = nu_zenith_bins_with_one_extra, statistic=statistic)[0]\n",
    "\n",
    "        ax.plot(nu_zenith_bins / units.deg, binned_resolution_nu_zenith, \"o\")\n",
    "        # ax.set_ylim(0, 0.4)\n",
    "        ax.set_xlabel(\"true neutrino direction zenith angle\")\n",
    "        ax.set_ylabel(\"angular resolution\")\n",
    "\n",
    "        plt.title(f\"Mean resolution as a function of nu_zenith for {run_name}\")\n",
    "        fig_zenith.tight_layout()\n",
    "        fig_zenith.savefig(f\"{plot_dir}/{statistic_string}_resolution_nu_zenith_{run_name}.png\")\n",
    "        # ___________________________________\n",
    "\n",
    "        # --------- Zenith count plotting ---------\n",
    "        # Create figure\n",
    "        fig_zenith_count = plt.figure()\n",
    "\n",
    "        # Calculate binned statistics\n",
    "        ax = fig_zenith_count.add_subplot(1, 1, 1)\n",
    "        binned_resolution_nu_zenith_count = stats.binned_statistic(nu_zenith, angle_difference_data, bins = nu_zenith_bins_with_one_extra, statistic = \"count\")[0]\n",
    "\n",
    "        ax.plot(nu_zenith_bins / units.deg, binned_resolution_nu_zenith_count, \"o\")\n",
    "        # ax.set_ylim(0, 0.4)\n",
    "        ax.set_xlabel(\"true neutrino direction zenith angle\")\n",
    "        ax.set_ylabel(\"count\")\n",
    "\n",
    "        plt.title(f\"Count of events inside bins as a function of nu_zenith for {run_name}\")\n",
    "        fig_zenith_count.tight_layout()\n",
    "        fig_zenith_count.savefig(f\"{plot_dir}/{statistic_string}_resolution_nu_zenith_count_{run_name}.png\")\n",
    "        # ___________________________________\n",
    "\n",
    "        # Zenith resolution & count on same axis\n",
    "        # Constants:\n",
    "        x_label = r\"True $\\nu$ zenith angle\"\n",
    "        ax1_y_label = fr\"$\\sigma{sigma_68_string}$ in bin\"\n",
    "        ax2_y_label = \"Events\"\n",
    "\n",
    "        x_data = nu_zenith_bins / units.deg\n",
    "        ax1_data_y = binned_resolution_nu_zenith\n",
    "        ax2_data_y = binned_resolution_nu_zenith_count\n",
    "\n",
    "        file_name = \"nu_zenith\"\n",
    "        plot_title_1 = fr\"Value of $\\sigma{sigma_68_string}$ as a function of $\\nu$ zenith angle\"\n",
    "        plot_title_2 = fr\"count of events inside $\\nu$ zenith angle bins for dataset {emission_model}\"\n",
    "        plot_title = plot_title_1 + \", and\\n\" + plot_title_2\n",
    "        legend_loc = \"upper left\"\n",
    "        # Constants END\n",
    "\n",
    "        plot_same(x_data, ax1_data_y, ax2_data_y)\n",
    "        # ______________________________________\n",
    "\n",
    "\n",
    "\n",
    "        # --------- SNR plotting ---------\n",
    "        max_LPDA = np.max(np.max(np.abs(data[:, 0:4, :]), axis=2), axis=1)\n",
    "\n",
    "        # print(max_LPDA[:, 0])\n",
    "        # index_max_LPDA_big = max_LPDA[:, 0] * 10 > 300\n",
    "        # print(max_LPDA.index(index_max_LPDA_big[0]))\n",
    "\n",
    "\n",
    "        # print(\"data.shape:\", data.shape)\n",
    "        # #print(\"data:\", data)\n",
    "\n",
    "        # print(\"data[:, :, 0:4].shape\", data[:, 0:4, :].shape)\n",
    "        # #print(\"data[:, :, 0:4]\", data[:, 0:4, :])\n",
    "\n",
    "        # print(\"np.abs(data[:, :, 0:4]).shape\", np.abs(data[:, 0:4, :]).shape)\n",
    "        # #print(\"np.abs(data[:, :, 0:4])\", np.abs(data[:, 0:4, :]))\n",
    "\n",
    "        # print(\"np.max(np.abs(data[:, :, 0:4]), axis=1).shape:\", np.max(np.abs(data[:, 0:4, :]), axis=2).shape)\n",
    "        # #print(\"np.max(np.abs(data[:, :, 0:4]), axis=1):\", np.max(np.abs(data[:, 0:4, :]), axis=1))\n",
    "\n",
    "        # print(\"np.max(np.max(np.abs(data[:, :, 0:4]), axis=1), axis=1).shape:\", np.max(np.max(np.abs(data[:, 0:4, :]), axis=2), axis=1).shape)\n",
    "        # #print(\"np.max(np.max(np.abs(data[:, :, 0:4]), axis=1), axis=1):\", np.max(np.max(np.abs(data[:, 0:4, :]), axis=1), axis=1))\n",
    "\n",
    "        # Create figure\n",
    "        fig_SNR = plt.figure()\n",
    "\n",
    "        # Calculate binned statistics\n",
    "        ax = fig_SNR.add_subplot(1, 1, 1)\n",
    "\n",
    "        SNR_means = np.linspace(2, 10, 30)\n",
    "        SNR_bins = np.append(np.linspace(2, 10, 30), 10000)\n",
    "\n",
    "        #SNR_means = np.arange(0.5, 300.5, 1)\n",
    "        #SNR_bins = np.append(np.arange(0, 300, 1), [10000])\n",
    "\n",
    "        binned_resolution_SNR_mean = stats.binned_statistic(max_LPDA[:, 0] / 10., angle_difference_data, bins=SNR_bins, statistic=statistic)[0]\n",
    "\n",
    "        ax.plot(SNR_means, binned_resolution_SNR_mean, \"o\")\n",
    "        # ax.set_ylim(0, 0.4)\n",
    "        ax.set_xlabel(\"SNR\")\n",
    "        ax.set_ylabel(\"angular resolution\")\n",
    "\n",
    "        plt.title(f\"Mean resolution as a function of SNR for {run_name}\")\n",
    "        fig_SNR.tight_layout()\n",
    "        fig_SNR.savefig(f\"{plot_dir}/{statistic_string}_resolution_SNR_{run_name}.png\")\n",
    "        # ___________________________________\n",
    "\n",
    "        # --------- SNR count plotting ---------\n",
    "        # Create figure\n",
    "        fig_SNR_count = plt.figure()\n",
    "\n",
    "        # Calculate binned statistics\n",
    "        ax = fig_SNR_count.add_subplot(1, 1, 1)\n",
    "\n",
    "        binned_resolution_SNR_mean_count = stats.binned_statistic(max_LPDA[:, 0] / 10., angle_difference_data, bins=SNR_bins, statistic = \"count\")[0]\n",
    "\n",
    "        ax.plot(SNR_means, binned_resolution_SNR_mean_count, \"o\")\n",
    "        # ax.set_ylim(0, 0.4)\n",
    "        ax.set_xlabel(\"SNR\")\n",
    "        ax.set_ylabel(\"count\")\n",
    "\n",
    "        plt.title(f\"Count of events inside bins as a function of SNR for {run_name}\")\n",
    "        fig_SNR_count.tight_layout()\n",
    "        fig_SNR_count.savefig(f\"{plot_dir}/{statistic_string}_resolution_SNR_count_{run_name}.png\")\n",
    "        # ___________________________________\n",
    "\n",
    "\n",
    "        # SNR resolution & count on same axis\n",
    "        # Constants:\n",
    "        x_label = r\"Event SNR\"\n",
    "        ax1_y_label = fr\"$\\sigma{sigma_68_string}$ in bin\"\n",
    "        ax2_y_label = \"Events\"\n",
    "\n",
    "        x_data = SNR_means\n",
    "        ax1_data_y = binned_resolution_SNR_mean\n",
    "        ax2_data_y = binned_resolution_SNR_mean_count\n",
    "\n",
    "        file_name = \"nu_SNR\"\n",
    "        plot_title_1 = fr\"Value of $\\sigma{sigma_68_string}$ as a function of event SNR\"\n",
    "        plot_title_2 = fr\"count of events inside SNR bins for dataset {emission_model}\"\n",
    "        plot_title = plot_title_1 + \", and\\n\" + plot_title_2\n",
    "        legend_loc = \"upper right\"\n",
    "        # Constants END\n",
    "\n",
    "        plot_same(x_data, ax1_data_y, ax2_data_y)\n",
    "        # ______________________________________\n",
    "\n",
    "\n",
    "        # Save plotting data for plotting all at once\n",
    "        with open(f'{plots_dir}/plotdata_{statistic_string}_{run_name}.npy', 'wb') as f:\n",
    "            np.save(f, shower_energy_bins)\n",
    "            np.save(f, binned_resolution_shower_energy)\n",
    "            np.save(f, binned_resolution_shower_energy_count)\n",
    "\n",
    "            np.save(f, nu_azimuth_bins / units.deg)\n",
    "            np.save(f, binned_resolution_nu_azimuth)\n",
    "            np.save(f, binned_resolution_nu_azimuth_count)\n",
    "\n",
    "            np.save(f, nu_zenith_bins / units.deg)\n",
    "            np.save(f, binned_resolution_nu_zenith)\n",
    "            np.save(f, binned_resolution_nu_zenith_count)\n",
    "\n",
    "            np.save(f, SNR_means)\n",
    "            np.save(f, binned_resolution_SNR_mean)\n",
    "            np.save(f, binned_resolution_SNR_mean_count)\n",
    "\n",
    "        print(f\"Plotting angular resolution depending on properties for {run_name}!\")\n",
    "        print(\"\")\n",
    "\n",
    "        plt.close(\"all\")"
   ]
  },
  {
   "cell_type": "code",
   "execution_count": 5,
   "metadata": {},
   "outputs": [
    {
     "name": "stdout",
     "output_type": "stream",
     "text": [
      "Calulating with statistic SIXTYEIGHT...\n",
      "Plotting shower_energy...\n"
     ]
    },
    {
     "name": "stderr",
     "output_type": "stream",
     "text": [
      "The PostScript backend does not support transparency; partially transparent artists will be rendered opaque.\n",
      "The PostScript backend does not support transparency; partially transparent artists will be rendered opaque.\n",
      "The PostScript backend does not support transparency; partially transparent artists will be rendered opaque.\n",
      "The PostScript backend does not support transparency; partially transparent artists will be rendered opaque.\n"
     ]
    },
    {
     "name": "stdout",
     "output_type": "stream",
     "text": [
      "Plotting nu_azimuth...\n",
      "Plotting nu_zenith...\n"
     ]
    },
    {
     "name": "stderr",
     "output_type": "stream",
     "text": [
      "The PostScript backend does not support transparency; partially transparent artists will be rendered opaque.\n",
      "The PostScript backend does not support transparency; partially transparent artists will be rendered opaque.\n",
      "The PostScript backend does not support transparency; partially transparent artists will be rendered opaque.\n",
      "The PostScript backend does not support transparency; partially transparent artists will be rendered opaque.\n"
     ]
    },
    {
     "name": "stdout",
     "output_type": "stream",
     "text": [
      "Plotting nu_SNR...\n",
      "Calulating with statistic Mean...\n",
      "Plotting shower_energy...\n"
     ]
    },
    {
     "name": "stderr",
     "output_type": "stream",
     "text": [
      "The PostScript backend does not support transparency; partially transparent artists will be rendered opaque.\n",
      "The PostScript backend does not support transparency; partially transparent artists will be rendered opaque.\n",
      "The PostScript backend does not support transparency; partially transparent artists will be rendered opaque.\n",
      "The PostScript backend does not support transparency; partially transparent artists will be rendered opaque.\n"
     ]
    },
    {
     "name": "stdout",
     "output_type": "stream",
     "text": [
      "Plotting nu_azimuth...\n",
      "Plotting nu_zenith...\n"
     ]
    },
    {
     "name": "stderr",
     "output_type": "stream",
     "text": [
      "The PostScript backend does not support transparency; partially transparent artists will be rendered opaque.\n",
      "The PostScript backend does not support transparency; partially transparent artists will be rendered opaque.\n",
      "The PostScript backend does not support transparency; partially transparent artists will be rendered opaque.\n",
      "The PostScript backend does not support transparency; partially transparent artists will be rendered opaque.\n"
     ]
    },
    {
     "name": "stdout",
     "output_type": "stream",
     "text": [
      "Plotting nu_SNR...\n",
      "Calulating with statistic Median...\n",
      "Plotting shower_energy...\n"
     ]
    },
    {
     "name": "stderr",
     "output_type": "stream",
     "text": [
      "The PostScript backend does not support transparency; partially transparent artists will be rendered opaque.\n",
      "The PostScript backend does not support transparency; partially transparent artists will be rendered opaque.\n",
      "The PostScript backend does not support transparency; partially transparent artists will be rendered opaque.\n",
      "The PostScript backend does not support transparency; partially transparent artists will be rendered opaque.\n"
     ]
    },
    {
     "name": "stdout",
     "output_type": "stream",
     "text": [
      "Plotting nu_azimuth...\n",
      "Plotting nu_zenith...\n"
     ]
    },
    {
     "name": "stderr",
     "output_type": "stream",
     "text": [
      "The PostScript backend does not support transparency; partially transparent artists will be rendered opaque.\n",
      "The PostScript backend does not support transparency; partially transparent artists will be rendered opaque.\n",
      "The PostScript backend does not support transparency; partially transparent artists will be rendered opaque.\n",
      "The PostScript backend does not support transparency; partially transparent artists will be rendered opaque.\n"
     ]
    },
    {
     "name": "stdout",
     "output_type": "stream",
     "text": [
      "Plotting nu_SNR...\n",
      "Calulating with statistic RMS...\n",
      "Plotting shower_energy...\n"
     ]
    },
    {
     "name": "stderr",
     "output_type": "stream",
     "text": [
      "The PostScript backend does not support transparency; partially transparent artists will be rendered opaque.\n",
      "The PostScript backend does not support transparency; partially transparent artists will be rendered opaque.\n",
      "The PostScript backend does not support transparency; partially transparent artists will be rendered opaque.\n",
      "The PostScript backend does not support transparency; partially transparent artists will be rendered opaque.\n"
     ]
    },
    {
     "name": "stdout",
     "output_type": "stream",
     "text": [
      "Plotting nu_azimuth...\n",
      "Plotting nu_zenith...\n"
     ]
    },
    {
     "name": "stderr",
     "output_type": "stream",
     "text": [
      "The PostScript backend does not support transparency; partially transparent artists will be rendered opaque.\n",
      "The PostScript backend does not support transparency; partially transparent artists will be rendered opaque.\n",
      "The PostScript backend does not support transparency; partially transparent artists will be rendered opaque.\n",
      "The PostScript backend does not support transparency; partially transparent artists will be rendered opaque.\n"
     ]
    },
    {
     "name": "stdout",
     "output_type": "stream",
     "text": [
      "Plotting nu_SNR...\n",
      "Calulating with statistic STD...\n",
      "Plotting shower_energy...\n"
     ]
    },
    {
     "name": "stderr",
     "output_type": "stream",
     "text": [
      "The PostScript backend does not support transparency; partially transparent artists will be rendered opaque.\n",
      "The PostScript backend does not support transparency; partially transparent artists will be rendered opaque.\n",
      "The PostScript backend does not support transparency; partially transparent artists will be rendered opaque.\n",
      "The PostScript backend does not support transparency; partially transparent artists will be rendered opaque.\n"
     ]
    },
    {
     "name": "stdout",
     "output_type": "stream",
     "text": [
      "Plotting nu_azimuth...\n",
      "Plotting nu_zenith...\n"
     ]
    },
    {
     "name": "stderr",
     "output_type": "stream",
     "text": [
      "The PostScript backend does not support transparency; partially transparent artists will be rendered opaque.\n",
      "The PostScript backend does not support transparency; partially transparent artists will be rendered opaque.\n",
      "The PostScript backend does not support transparency; partially transparent artists will be rendered opaque.\n",
      "The PostScript backend does not support transparency; partially transparent artists will be rendered opaque.\n"
     ]
    },
    {
     "name": "stdout",
     "output_type": "stream",
     "text": [
      "Plotting nu_SNR...\n"
     ]
    },
    {
     "data": {
      "image/png": "[encoded data removed]",
      "text/plain": [
       "<Figure size 288x216 with 1 Axes>"
      ]
     },
     "metadata": {
      "needs_background": "light"
     },
     "output_type": "display_data"
    },
    {
     "data": {
      "image/png": "[encoded data removed]",
      "text/plain": [
       "<Figure size 288x216 with 1 Axes>"
      ]
     },
     "metadata": {
      "needs_background": "light"
     },
     "output_type": "display_data"
    },
    {
     "data": {
      "image/png": "[encoded data removed]",
      "text/plain": [
       "<Figure size 288x216 with 1 Axes>"
      ]
     },
     "metadata": {
      "needs_background": "light"
     },
     "output_type": "display_data"
    },
    {
     "data": {
      "image/png": "[encoded data removed]",
      "text/plain": [
       "<Figure size 288x216 with 1 Axes>"
      ]
     },
     "metadata": {
      "needs_background": "light"
     },
     "output_type": "display_data"
    },
    {
     "data": {
      "image/png": "[encoded data removed]",
      "text/plain": [
       "<Figure size 288x216 with 1 Axes>"
      ]
     },
     "metadata": {
      "needs_background": "light"
     },
     "output_type": "display_data"
    },
    {
     "data": {
      "image/png": "[encoded data removed]",
      "text/plain": [
       "<Figure size 288x216 with 1 Axes>"
      ]
     },
     "metadata": {
      "needs_background": "light"
     },
     "output_type": "display_data"
    },
    {
     "data": {
      "image/png": "[encoded data removed]",
      "text/plain": [
       "<Figure size 288x216 with 1 Axes>"
      ]
     },
     "metadata": {
      "needs_background": "light"
     },
     "output_type": "display_data"
    },
    {
     "data": {
      "image/png": "[encoded data removed]",
      "text/plain": [
       "<Figure size 288x216 with 1 Axes>"
      ]
     },
     "metadata": {
      "needs_background": "light"
     },
     "output_type": "display_data"
    },
    {
     "data": {
      "image/png": "[encoded data removed]",
      "text/plain": [
       "<Figure size 288x216 with 1 Axes>"
      ]
     },
     "metadata": {
      "needs_background": "light"
     },
     "output_type": "display_data"
    },
    {
     "data": {
      "image/png": "[encoded data removed]",
      "text/plain": [
       "<Figure size 288x216 with 1 Axes>"
      ]
     },
     "metadata": {
      "needs_background": "light"
     },
     "output_type": "display_data"
    },
    {
     "data": {
      "image/png": "[encoded data removed]",
      "text/plain": [
       "<Figure size 288x216 with 1 Axes>"
      ]
     },
     "metadata": {
      "needs_background": "light"
     },
     "output_type": "display_data"
    },
    {
     "data": {
      "image/png": "[encoded data removed]",
      "text/plain": [
       "<Figure size 288x216 with 1 Axes>"
      ]
     },
     "metadata": {
      "needs_background": "light"
     },
     "output_type": "display_data"
    },
    {
     "data": {
      "image/png": "[encoded data removed]",
      "text/plain": [
       "<Figure size 288x216 with 1 Axes>"
      ]
     },
     "metadata": {
      "needs_background": "light"
     },
     "output_type": "display_data"
    },
    {
     "data": {
      "image/png": "[encoded data removed]",
      "text/plain": [
       "<Figure size 288x216 with 1 Axes>"
      ]
     },
     "metadata": {
      "needs_background": "light"
     },
     "output_type": "display_data"
    },
    {
     "data": {
      "image/png": "[encoded data removed]",
      "text/plain": [
       "<Figure size 288x216 with 1 Axes>"
      ]
     },
     "metadata": {
      "needs_background": "light"
     },
     "output_type": "display_data"
    },
    {
     "data": {
      "image/png": "[encoded data removed]",
      "text/plain": [
       "<Figure size 288x216 with 1 Axes>"
      ]
     },
     "metadata": {
      "needs_background": "light"
     },
     "output_type": "display_data"
    },
    {
     "data": {
      "image/png": "[encoded data removed]",
      "text/plain": [
       "<Figure size 288x216 with 1 Axes>"
      ]
     },
     "metadata": {
      "needs_background": "light"
     },
     "output_type": "display_data"
    },
    {
     "data": {
      "image/png": "[encoded data removed]",
      "text/plain": [
       "<Figure size 288x216 with 1 Axes>"
      ]
     },
     "metadata": {
      "needs_background": "light"
     },
     "output_type": "display_data"
    },
    {
     "data": {
      "image/png": "[encoded data removed]",
      "text/plain": [
       "<Figure size 288x216 with 1 Axes>"
      ]
     },
     "metadata": {
      "needs_background": "light"
     },
     "output_type": "display_data"
    },
    {
     "data": {
      "image/png": "[encoded data removed]",
      "text/plain": [
       "<Figure size 288x216 with 1 Axes>"
      ]
     },
     "metadata": {
      "needs_background": "light"
     },
     "output_type": "display_data"
    }
   ],
   "source": [
    "\n",
    "# Imports\n",
    "import matplotlib.pyplot as plt\n",
    "import numpy as np\n",
    "import sys\n",
    "import argparse\n",
    "import os\n",
    "import time\n",
    "import pickle\n",
    "from NuRadioReco.utilities import units\n",
    "from scipy import stats\n",
    "from itertools import product, combinations\n",
    "from radiotools import plthelpers as php\n",
    "from tensorflow import keras\n",
    "from radiotools import helper as hp\n",
    "# -------\n",
    "\n",
    "# Set the figsize in order to get larger text in image\n",
    "plt.rcParams[\"figure.figsize\"] = (4.0,3.0)\n",
    "\n",
    "def plot_same(x_data_1, x_data_2, ax1_data_y_1, ax1_data_y_2, ax2_data_y_1, ax2_data_y_2):\n",
    "    print(f\"Plotting {file_name}...\")\n",
    "\n",
    "    fig_same, ax1 = plt.subplots()\n",
    "\n",
    "    ax1.set_xlabel(x_label)\n",
    "    ax1.set_ylabel(ax1_y_label)\n",
    "\n",
    "    # Set ax1 to high order to make it be in front so label is in front, and datapoints\n",
    "    #ax1.set_zorder(1)\n",
    "\n",
    "    if file_name == \"shower_energy\":\n",
    "        ax1.set_xscale('log')\n",
    "\n",
    "    # Remove all valeys that have STD = 0 in graph from ARZ (had. + EM) data and the others\n",
    "    if statistic_string == \"STD\":\n",
    "        zero_mask = ax1_data_y_2 == 0\n",
    "        x_data_2 = x_data_2[~zero_mask]\n",
    "        ax1_data_y_2 = ax1_data_y_2[~zero_mask]\n",
    "\n",
    "        zero_mask = ax1_data_y_1 == 0\n",
    "        x_data_1 = x_data_1[~zero_mask]\n",
    "        ax1_data_y_1 = ax1_data_y_1[~zero_mask]\n",
    "\n",
    "    # # Remove last peices of data as their bins are weird for some azimuth\n",
    "    # if file_name == \"shower_energy\" or file_name == \"nu_azimuth\" or file_name == \"nu_SNR\":\n",
    "    #     x_data_1 = x_data_1[0:-1]\n",
    "    #     x_data_2 = x_data_2[0:-1]\n",
    "    #     x_data_3 = x_data_3[0:-1]\n",
    "    #     ax1_data_y_1 = ax1_data_y_1[0:-1]\n",
    "    #     ax1_data_y_2 = ax1_data_y_2[0:-1]\n",
    "    #     ax1_data_y_3 = ax1_data_y_3[0:-1]\n",
    "\n",
    "    # Remove any bins with zero events for nu_zenith\n",
    "    # if file_name == \"nu_zenith\":\n",
    "    #     ind_count_not_0 = ax2_data_y_1 != 0\n",
    "    #     x_data_1 = x_data_1[ind_count_not_0]\n",
    "    #     ax1_data_y_1 = ax1_data_y_1[ind_count_not_0]\n",
    "\n",
    "    #     ind_count_not_0 = ax2_data_y_2 != 0\n",
    "    #     x_data_2 = x_data_2[ind_count_not_0]\n",
    "    #     ax1_data_y_2 = ax1_data_y_2[ind_count_not_0]\n",
    "\n",
    "    #     ind_count_not_0 = ax2_data_y_3 != 0\n",
    "    #     x_data_3 = x_data_3[ind_count_not_0]\n",
    "    #     ax1_data_y_3 = ax1_data_y_3[ind_count_not_0]\n",
    "\n",
    "    # lns1 = ax1.plot(x_data_1, ax1_data_y_1, \"*\", color=ax1_color, label = emission_models[0])\n",
    "    # lns2 = ax1.plot(x_data_2, ax1_data_y_2, \"*\", color=ax1_color, label = emission_models[1])\n",
    "    # lns3 = ax1.plot(x_data_3, \"*\", color=ax1_color, label = emission_models[2])\n",
    "\n",
    "    lns1 = ax1.plot(x_data_1, ax1_data_y_1, point_format[0], label = emission_models[0], color=colours[0])\n",
    "    lns2 = ax1.plot(x_data_2, ax1_data_y_2, point_format[1], label = emission_models[1], color=colours[1])\n",
    "\n",
    "    # Set axis limits so they are same on all plots\n",
    "    if statistic_string == \"SIXTYEIGHT\":\n",
    "        if file_name == \"shower_energy\":\n",
    "            ax1.set_ylim(0, 0.9)\n",
    "        elif file_name == \"nu_SNR\":\n",
    "            ax1.set_ylim(0, 0.75)\n",
    "        elif file_name == \"nu_zenith\":\n",
    "            ax1.set_ylim(0, 0.75)\n",
    "        elif file_name == \"nu_azimuth\":\n",
    "            ax1.set_ylim(0, 0.75)\n",
    "    elif statistic_string == \"Mean\":\n",
    "        if file_name == \"shower_energy\":\n",
    "            ax1.set_ylim(-0.6, 1.4)\n",
    "        elif file_name == \"nu_SNR\":\n",
    "            ax1.set_ylim(-0.2, 0.2)\n",
    "        elif file_name == \"nu_zenith\":\n",
    "            ax1.set_ylim(-0.2, 0.75)\n",
    "        elif file_name == \"nu_azimuth\":\n",
    "            ax1.set_ylim(-0.2, 0.2)\n",
    "    elif statistic_string == \"Median\":\n",
    "        if file_name == \"shower_energy\":\n",
    "            ax1.set_ylim(-0.4, 0.9)\n",
    "        elif file_name == \"nu_SNR\":\n",
    "            ax1.set_ylim(-0.2, 0.2)\n",
    "        elif file_name == \"nu_zenith\":\n",
    "            ax1.set_ylim(0, 0.75)\n",
    "        elif file_name == \"nu_azimuth\":\n",
    "            ax1.set_ylim(-0.2, 0.2)\n",
    "    elif statistic_string == \"RMS\":\n",
    "        if file_name == \"shower_energy\":\n",
    "            ax1.set_ylim(0, 0.9)\n",
    "        elif file_name == \"nu_SNR\":\n",
    "            ax1.set_ylim(0, 0.75)\n",
    "        elif file_name == \"nu_zenith\":\n",
    "            ax1.set_ylim(0, 0.75)\n",
    "        elif file_name == \"nu_azimuth\":\n",
    "            ax1.set_ylim(0, 0.75)\n",
    "    elif statistic_string == \"STD\":\n",
    "        if file_name == \"shower_energy\":\n",
    "            ax1.set_ylim(0, 0.75)\n",
    "        elif file_name == \"nu_SNR\":\n",
    "            ax1.set_ylim(0, 0.75)\n",
    "        elif file_name == \"nu_zenith\":\n",
    "            ax1.set_ylim(0, 0.75)\n",
    "        elif file_name == \"nu_azimuth\":\n",
    "            ax1.set_ylim(0, 0.75)\n",
    "\n",
    "    # plt.title(plot_title)\n",
    "    plt.grid(True, which=\"both\")\n",
    "\n",
    "    ax1.legend(prop={'size': 6})\n",
    "\n",
    "    fig_same.tight_layout()  # otherwise the right y-label is slightly clipped\n",
    "\n",
    "    #plt.subplots_adjust(top=0.88)\n",
    "    if eps:\n",
    "        fig_same.savefig(f\"{plot_dir}/SAMEPLOT_{file_name}_same_statistic_{statistic_string}.eps\", format=\"eps\", bbox_inches='tight')\n",
    "    else:\n",
    "        fig_same.savefig(f\"{plot_dir}/SAMEPLOT_{file_name}_same_statistic_{statistic_string}.png\", bbox_inches='tight', dpi=300)\n",
    "\n",
    "\n",
    "eps = True\n",
    "\n",
    "# Save the run name\n",
    "run_names = [\"run_HAD_vs_EMHAD\", \"run_EMHAD_vs_HAD\"]\n",
    "emission_models = [\"ARZ2020 (had.) model, ARZ2020 (had. + EM) dataset\", \"ARZ2020 (had. + EM) model, ARZ2020 (had.) dataset\"]\n",
    "colours = [\"tab:green\", \"tab:red\"]\n",
    "point_format = [\"v\", \"P\"]\n",
    "\n",
    "\n",
    "# See which statistic to calculate...\n",
    "# statistic_string = \"SIXTYEIGHT\"\n",
    "# statistic_string = \"Mean\"\n",
    "# statistic_string = \"Median\"\n",
    "# statistic_string = \"RMS\"\n",
    "# statistic_string = \"STD\"\n",
    "for statistic_string in [\"SIXTYEIGHT\", \"Mean\", \"Median\", \"RMS\", \"STD\"]:\n",
    "\n",
    "    print(f\"Calulating with statistic {statistic_string}...\")\n",
    "\n",
    "\n",
    "    plots_dir = f\"plots\"\n",
    "    plot_dir = f\"plots\"\n",
    "\n",
    "    # Make sure same_data file exists\n",
    "    same_data_file = f'{plots_dir}/plotdata_{statistic_string}_{run_names[0]}.npy'\n",
    "    if not os.path.isfile(same_data_file):\n",
    "        print(f\"Same datafile does not exist for {run_names[0]}!\")\n",
    "        raise Exception\n",
    "\n",
    "    # Load same data file\n",
    "    with open(same_data_file, 'rb') as f:\n",
    "        nu_energy_bins_1 = np.load(f)\n",
    "        binned_resolution_nu_energy_1 = np.load(f)\n",
    "        binned_resolution_nu_energy_count_1 = np.load(f)\n",
    "\n",
    "        nu_azimuth_bins_1 = np.load(f)\n",
    "        binned_resolution_nu_azimuth_1 = np.load(f)\n",
    "        binned_resolution_nu_azimuth_count_1 = np.load(f)\n",
    "\n",
    "        nu_zenith_bins_1 = np.load(f)\n",
    "        binned_resolution_nu_zenith_1 = np.load(f)\n",
    "        binned_resolution_nu_zenith_count_1 = np.load(f)\n",
    "\n",
    "        SNR_means_1 = np.load(f)\n",
    "        binned_resolution_SNR_mean_1 = np.load(f)\n",
    "        binned_resolution_SNR_mean_count_1 = np.load(f)\n",
    "\n",
    "    # Make sure same_data file exists,\n",
    "    same_data_file = f'{plots_dir}/plotdata_{statistic_string}_{run_names[1]}.npy'\n",
    "    if not os.path.isfile(same_data_file):\n",
    "        print(f\"Same datafile does not exist for {run_names[1]}!\")\n",
    "        raise Exception\n",
    "\n",
    "    # Load same data file\n",
    "    with open(same_data_file, 'rb') as f:\n",
    "        nu_energy_bins_2 = np.load(f)\n",
    "        binned_resolution_nu_energy_2 = np.load(f)\n",
    "        binned_resolution_nu_energy_count_2 = np.load(f)\n",
    "\n",
    "        nu_azimuth_bins_2 = np.load(f)\n",
    "        binned_resolution_nu_azimuth_2 = np.load(f)\n",
    "        binned_resolution_nu_azimuth_count_2 = np.load(f)\n",
    "\n",
    "        nu_zenith_bins_2 = np.load(f)\n",
    "        binned_resolution_nu_zenith_2 = np.load(f)\n",
    "        binned_resolution_nu_zenith_count_2 = np.load(f)\n",
    "\n",
    "        SNR_means_2 = np.load(f)\n",
    "        binned_resolution_SNR_mean_2 = np.load(f)\n",
    "        binned_resolution_SNR_mean_count_2 = np.load(f)\n",
    "\n",
    "\n",
    "    sigma_68_string = \"_{68}\"\n",
    "    delta_log_E_string = r\"$\\Delta(\\log_{10}\\:E)$\"\n",
    "\n",
    "    ax2_data_y_1 = binned_resolution_nu_zenith_count_1\n",
    "    ax2_data_y_2 = binned_resolution_nu_zenith_count_2\n",
    "\n",
    "    # Energy resolution & count on same axis\n",
    "    # Constants:\n",
    "    ax1_color = 'tab:blue'\n",
    "    ax2_color = 'tab:orange'\n",
    "    x_label = r\"True shower energy (eV)\"\n",
    "\n",
    "    if statistic_string == \"SIXTYEIGHT\":\n",
    "        ax1_y_label = fr\"$\\sigma{sigma_68_string}$ in bin\"\n",
    "    elif statistic_string == \"Mean\":\n",
    "        ax1_y_label = fr\"mean {delta_log_E_string} in bin\"\n",
    "    elif statistic_string == \"Median\":\n",
    "        ax1_y_label = fr\"median {delta_log_E_string} in bin\"\n",
    "    elif statistic_string == \"RMS\":\n",
    "        ax1_y_label = fr\"RMS {delta_log_E_string} in bin\"\n",
    "    elif statistic_string == \"STD\":\n",
    "        ax1_y_label = fr\"STD {delta_log_E_string} in bin\"\n",
    "    ax2_y_label = \"Events\"\n",
    "\n",
    "    x_data_1 = nu_energy_bins_1\n",
    "    x_data_2 = nu_energy_bins_2\n",
    "    ax1_data_y_1 = binned_resolution_nu_energy_1\n",
    "    ax1_data_y_2 = binned_resolution_nu_energy_2\n",
    "\n",
    "\n",
    "    file_name = \"shower_energy\"\n",
    "    if statistic_string == \"SIXTYEIGHT\":\n",
    "        plot_title = fr\"Value of $\\sigma{sigma_68_string}$ as a function of shower energy\"\n",
    "    elif statistic_string == \"Mean\":\n",
    "        plot_title = fr\"Mean value of {delta_log_E_string} as a function of shower energy\"\n",
    "    elif statistic_string == \"Median\":\n",
    "        plot_title = fr\"Median value of {delta_log_E_string} as a function of shower energy\"\n",
    "    elif statistic_string == \"RMS\":\n",
    "        plot_title = fr\"RMS value of {delta_log_E_string} as a function of shower energy\"\n",
    "    elif statistic_string == \"STD\":\n",
    "        plot_title = fr\"STD value of {delta_log_E_string} as a function of shower energy\"\n",
    "    legend_loc = \"upper center\"\n",
    "    # Constants END\n",
    "\n",
    "    plot_same(x_data_1, x_data_2, ax1_data_y_1, ax1_data_y_2, ax2_data_y_1, ax2_data_y_2)\n",
    "    # ______________________________________\n",
    "\n",
    "\n",
    "    # Azimuth resolution & count on same axis\n",
    "    # Constants:\n",
    "    x_label = r\"True $\\nu$ azimuth angle (°)\"\n",
    "    if statistic_string == \"SIXTYEIGHT\":\n",
    "        ax1_y_label = fr\"$\\sigma{sigma_68_string}$ in bin\"\n",
    "    elif statistic_string == \"Mean\":\n",
    "        ax1_y_label = fr\"mean {delta_log_E_string} in bin\"\n",
    "    elif statistic_string == \"Median\":\n",
    "        ax1_y_label = fr\"median {delta_log_E_string} in bin\"\n",
    "    elif statistic_string == \"RMS\":\n",
    "        ax1_y_label = fr\"RMS {delta_log_E_string} in bin\"\n",
    "    elif statistic_string == \"STD\":\n",
    "        ax1_y_label = fr\"STD {delta_log_E_string} in bin\"\n",
    "    ax2_y_label = \"Events\"\n",
    "\n",
    "    x_data_1 = nu_azimuth_bins_1\n",
    "    x_data_2 = nu_azimuth_bins_2\n",
    "    ax1_data_y_1 = binned_resolution_nu_azimuth_1\n",
    "    ax1_data_y_2 = binned_resolution_nu_azimuth_2\n",
    "\n",
    "\n",
    "    file_name = \"nu_azimuth\"\n",
    "    if statistic_string == \"SIXTYEIGHT\":\n",
    "        plot_title = fr\"Value of $\\sigma{sigma_68_string}$ as a function of $\\nu$ azimuth angle\"\n",
    "    elif statistic_string == \"Mean\":\n",
    "        plot_title = fr\"Mean value of {delta_log_E_string} as a function of $\\nu$ azimuth angle\"\n",
    "    elif statistic_string == \"Median\":\n",
    "        plot_title = fr\"Median value of {delta_log_E_string} as a function of $\\nu$ azimuth angle\"\n",
    "    elif statistic_string == \"RMS\":\n",
    "        plot_title = fr\"RMS value of {delta_log_E_string} as a function of $\\nu$ azimuth angle\"\n",
    "    elif statistic_string == \"STD\":\n",
    "        plot_title = fr\"STD value of {delta_log_E_string} as a function of $\\nu$ azimuth angle\"\n",
    "    legend_loc = \"upper right\"\n",
    "    # Constants END\n",
    "\n",
    "    plot_same(x_data_1, x_data_2, ax1_data_y_1, ax1_data_y_2, ax2_data_y_1, ax2_data_y_2)\n",
    "    # ______________________________________\n",
    "\n",
    "\n",
    "\n",
    "    # Zenith resolution & count on same axis\n",
    "    # Constants:\n",
    "    x_label = r\"True $\\nu$ zenith angle (°)\"\n",
    "    if statistic_string == \"SIXTYEIGHT\":\n",
    "        ax1_y_label = fr\"$\\sigma{sigma_68_string}$ in bin\"\n",
    "    elif statistic_string == \"Mean\":\n",
    "        ax1_y_label = fr\"mean {delta_log_E_string} in bin\"\n",
    "    elif statistic_string == \"Median\":\n",
    "        ax1_y_label = fr\"median {delta_log_E_string} in bin\"\n",
    "    elif statistic_string == \"RMS\":\n",
    "        ax1_y_label = fr\"RMS {delta_log_E_string} in bin\"\n",
    "    elif statistic_string == \"STD\":\n",
    "        ax1_y_label = fr\"STD {delta_log_E_string} in bin\"\n",
    "    ax2_y_label = \"Events\"\n",
    "\n",
    "    x_data_1 = nu_zenith_bins_1\n",
    "    x_data_2 = nu_zenith_bins_2\n",
    "    ax1_data_y_1 = binned_resolution_nu_zenith_1\n",
    "    ax1_data_y_2 = binned_resolution_nu_zenith_2\n",
    "\n",
    "\n",
    "    file_name = \"nu_zenith\"\n",
    "    if statistic_string == \"SIXTYEIGHT\":\n",
    "        plot_title = fr\"Value of $\\sigma{sigma_68_string}$ as a function of $\\nu$ zenith angle\"\n",
    "    elif statistic_string == \"Mean\":\n",
    "        plot_title = fr\"Mean value of {delta_log_E_string} as a function of $\\nu$ zenith angle\"\n",
    "    elif statistic_string == \"Median\":\n",
    "        plot_title = fr\"Median value of {delta_log_E_string} as a function of $\\nu$ zenith angle\"\n",
    "    elif statistic_string == \"RMS\":\n",
    "        plot_title = fr\"RMS value of {delta_log_E_string} as a function of $\\nu$ zenith angle\"\n",
    "    elif statistic_string == \"STD\":\n",
    "        plot_title = fr\"STD value of {delta_log_E_string} as a function of $\\nu$ zenith angle\"\n",
    "    legend_loc = \"upper left\"\n",
    "    # Constants END\n",
    "\n",
    "    plot_same(x_data_1, x_data_2, ax1_data_y_1, ax1_data_y_2, ax2_data_y_1, ax2_data_y_2)\n",
    "    # ______________________________________\n",
    "\n",
    "\n",
    "    # SNR resolution & count on same axis\n",
    "    # Constants:\n",
    "    x_label = r\"Event SNR\"\n",
    "    if statistic_string == \"SIXTYEIGHT\":\n",
    "        ax1_y_label = fr\"$\\sigma{sigma_68_string}$ in bin\"\n",
    "    elif statistic_string == \"Mean\":\n",
    "        ax1_y_label = fr\"mean {delta_log_E_string} in bin\"\n",
    "    elif statistic_string == \"Median\":\n",
    "        ax1_y_label = fr\"median {delta_log_E_string} in bin\"\n",
    "    elif statistic_string == \"RMS\":\n",
    "        ax1_y_label = fr\"RMS {delta_log_E_string} in bin\"\n",
    "    elif statistic_string == \"STD\":\n",
    "        ax1_y_label = fr\"STD {delta_log_E_string} in bin\"\n",
    "    ax2_y_label = \"Events\"\n",
    "\n",
    "    x_data_1 = SNR_means_1\n",
    "    x_data_2 = SNR_means_2\n",
    "    ax1_data_y_1 = binned_resolution_SNR_mean_1\n",
    "    ax1_data_y_2 = binned_resolution_SNR_mean_2\n",
    "\n",
    "\n",
    "    file_name = \"nu_SNR\"\n",
    "    if statistic_string == \"SIXTYEIGHT\":\n",
    "        plot_title = fr\"Value of $\\sigma{sigma_68_string}$ as a function of event SNR\"\n",
    "    elif statistic_string == \"Mean\":\n",
    "        plot_title = fr\"Mean value of {delta_log_E_string} as a function of event SNR\"\n",
    "    elif statistic_string == \"Median\":\n",
    "        plot_title = fr\"Median value of {delta_log_E_string} as a function of event SNR\"\n",
    "    elif statistic_string == \"RMS\":\n",
    "        plot_title = fr\"RMS value of {delta_log_E_string} as a function of event SNR\"\n",
    "    elif statistic_string == \"STD\":\n",
    "        plot_title = fr\"STD value of {delta_log_E_string} as a function of event SNR\"\n",
    "\n",
    "    legend_loc = \"upper right\"\n",
    "    # Constants END\n",
    "\n",
    "    plot_same(x_data_1, x_data_2, ax1_data_y_1, ax1_data_y_2, ax2_data_y_1, ax2_data_y_2)\n",
    "    # ______________________________________\n",
    "\n"
   ]
  },
  {
   "cell_type": "code",
   "execution_count": null,
   "metadata": {},
   "outputs": [],
   "source": []
  }
 ],
 "metadata": {
  "interpreter": {
   "hash": "f00e6b041018f9c5003ba88af84c1401696fe75920157f0e0f441a09854937f6"
  },
  "kernelspec": {
   "display_name": "Python 3.8.5 64-bit ('tf-gpu': conda)",
   "language": "python",
   "name": "python3"
  },
  "language_info": {
   "codemirror_mode": {
    "name": "ipython",
    "version": 3
   },
   "file_extension": ".py",
   "mimetype": "text/x-python",
   "name": "python",
   "nbconvert_exporter": "python",
   "pygments_lexer": "ipython3",
   "version": "3.8.5"
  },
  "orig_nbformat": 4
 },
 "nbformat": 4,
 "nbformat_minor": 2
}
