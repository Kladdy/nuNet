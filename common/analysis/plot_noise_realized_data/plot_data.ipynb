{
 "cells": [
  {
   "cell_type": "code",
   "execution_count": 1,
   "metadata": {},
   "outputs": [
    {
     "name": "stdout",
     "output_type": "stream",
     "text": [
      "noise temparture 300K, bandwidth 721.3653482501685MHz, Vrms -> 12.2muV, noise amplitude before filter 14.39muV\n",
      "training on 33 files (80.5%), validating on 5 files (12.2%), testing on 3 files (7.3%)\n"
     ]
    },
    {
     "name": "stderr",
     "output_type": "stream",
     "text": [
      "2021-12-06 00:48:36.683736: I tensorflow/stream_executor/platform/default/dso_loader.cc:44] Successfully opened dynamic library libcuda.so.1\n",
      "2021-12-06 00:48:36.763872: I tensorflow/core/common_runtime/gpu/gpu_device.cc:1561] Found device 0 with properties: \n",
      "pciBusID: 0000:3b:00.0 name: Quadro RTX 6000 computeCapability: 7.5\n",
      "coreClock: 1.77GHz coreCount: 72 deviceMemorySize: 23.65GiB deviceMemoryBandwidth: 625.94GiB/s\n",
      "2021-12-06 00:48:36.765263: I tensorflow/core/common_runtime/gpu/gpu_device.cc:1561] Found device 1 with properties: \n",
      "pciBusID: 0000:af:00.0 name: Quadro RTX 6000 computeCapability: 7.5\n",
      "coreClock: 1.77GHz coreCount: 72 deviceMemorySize: 23.65GiB deviceMemoryBandwidth: 625.94GiB/s\n",
      "2021-12-06 00:48:36.766587: I tensorflow/core/common_runtime/gpu/gpu_device.cc:1561] Found device 2 with properties: \n",
      "pciBusID: 0000:d8:00.0 name: Quadro RTX 6000 computeCapability: 7.5\n",
      "coreClock: 1.77GHz coreCount: 72 deviceMemorySize: 23.65GiB deviceMemoryBandwidth: 625.94GiB/s\n",
      "2021-12-06 00:48:36.766755: I tensorflow/stream_executor/platform/default/dso_loader.cc:44] Successfully opened dynamic library libcudart.so.10.1\n",
      "2021-12-06 00:48:36.768549: I tensorflow/stream_executor/platform/default/dso_loader.cc:44] Successfully opened dynamic library libcublas.so.10\n",
      "2021-12-06 00:48:36.770301: I tensorflow/stream_executor/platform/default/dso_loader.cc:44] Successfully opened dynamic library libcufft.so.10\n",
      "2021-12-06 00:48:36.770557: I tensorflow/stream_executor/platform/default/dso_loader.cc:44] Successfully opened dynamic library libcurand.so.10\n",
      "2021-12-06 00:48:36.772410: I tensorflow/stream_executor/platform/default/dso_loader.cc:44] Successfully opened dynamic library libcusolver.so.10\n",
      "2021-12-06 00:48:36.773332: I tensorflow/stream_executor/platform/default/dso_loader.cc:44] Successfully opened dynamic library libcusparse.so.10\n",
      "2021-12-06 00:48:36.777255: I tensorflow/stream_executor/platform/default/dso_loader.cc:44] Successfully opened dynamic library libcudnn.so.7\n",
      "2021-12-06 00:48:36.785091: I tensorflow/core/common_runtime/gpu/gpu_device.cc:1703] Adding visible gpu devices: 0, 1, 2\n",
      "2021-12-06 00:48:36.786489: I tensorflow/core/platform/cpu_feature_guard.cc:143] Your CPU supports instructions that this TensorFlow binary was not compiled to use: SSE4.1 SSE4.2 AVX AVX2 AVX512F FMA\n",
      "2021-12-06 00:48:36.798747: I tensorflow/core/platform/profile_utils/cpu_utils.cc:102] CPU Frequency: 2100000000 Hz\n",
      "2021-12-06 00:48:36.803879: I tensorflow/compiler/xla/service/service.cc:168] XLA service 0x55cfc2072080 initialized for platform Host (this does not guarantee that XLA will be used). Devices:\n",
      "2021-12-06 00:48:36.803922: I tensorflow/compiler/xla/service/service.cc:176]   StreamExecutor device (0): Host, Default Version\n",
      "2021-12-06 00:48:37.122126: I tensorflow/core/common_runtime/gpu/gpu_device.cc:1561] Found device 0 with properties: \n",
      "pciBusID: 0000:3b:00.0 name: Quadro RTX 6000 computeCapability: 7.5\n",
      "coreClock: 1.77GHz coreCount: 72 deviceMemorySize: 23.65GiB deviceMemoryBandwidth: 625.94GiB/s\n",
      "2021-12-06 00:48:37.123396: I tensorflow/core/common_runtime/gpu/gpu_device.cc:1561] Found device 1 with properties: \n",
      "pciBusID: 0000:af:00.0 name: Quadro RTX 6000 computeCapability: 7.5\n",
      "coreClock: 1.77GHz coreCount: 72 deviceMemorySize: 23.65GiB deviceMemoryBandwidth: 625.94GiB/s\n",
      "2021-12-06 00:48:37.124612: I tensorflow/core/common_runtime/gpu/gpu_device.cc:1561] Found device 2 with properties: \n",
      "pciBusID: 0000:d8:00.0 name: Quadro RTX 6000 computeCapability: 7.5\n",
      "coreClock: 1.77GHz coreCount: 72 deviceMemorySize: 23.65GiB deviceMemoryBandwidth: 625.94GiB/s\n",
      "2021-12-06 00:48:37.124681: I tensorflow/stream_executor/platform/default/dso_loader.cc:44] Successfully opened dynamic library libcudart.so.10.1\n",
      "2021-12-06 00:48:37.124692: I tensorflow/stream_executor/platform/default/dso_loader.cc:44] Successfully opened dynamic library libcublas.so.10\n",
      "2021-12-06 00:48:37.124702: I tensorflow/stream_executor/platform/default/dso_loader.cc:44] Successfully opened dynamic library libcufft.so.10\n",
      "2021-12-06 00:48:37.124711: I tensorflow/stream_executor/platform/default/dso_loader.cc:44] Successfully opened dynamic library libcurand.so.10\n",
      "2021-12-06 00:48:37.124720: I tensorflow/stream_executor/platform/default/dso_loader.cc:44] Successfully opened dynamic library libcusolver.so.10\n",
      "2021-12-06 00:48:37.124730: I tensorflow/stream_executor/platform/default/dso_loader.cc:44] Successfully opened dynamic library libcusparse.so.10\n",
      "2021-12-06 00:48:37.124739: I tensorflow/stream_executor/platform/default/dso_loader.cc:44] Successfully opened dynamic library libcudnn.so.7\n",
      "2021-12-06 00:48:37.131738: I tensorflow/core/common_runtime/gpu/gpu_device.cc:1703] Adding visible gpu devices: 0, 1, 2\n",
      "2021-12-06 00:48:37.131771: I tensorflow/stream_executor/platform/default/dso_loader.cc:44] Successfully opened dynamic library libcudart.so.10.1\n",
      "2021-12-06 00:48:37.136021: I tensorflow/core/common_runtime/gpu/gpu_device.cc:1102] Device interconnect StreamExecutor with strength 1 edge matrix:\n",
      "2021-12-06 00:48:37.136033: I tensorflow/core/common_runtime/gpu/gpu_device.cc:1108]      0 1 2 \n",
      "2021-12-06 00:48:37.136038: I tensorflow/core/common_runtime/gpu/gpu_device.cc:1121] 0:   N Y Y \n",
      "2021-12-06 00:48:37.136041: I tensorflow/core/common_runtime/gpu/gpu_device.cc:1121] 1:   Y N Y \n",
      "2021-12-06 00:48:37.136044: I tensorflow/core/common_runtime/gpu/gpu_device.cc:1121] 2:   Y Y N \n",
      "2021-12-06 00:48:37.142000: I tensorflow/core/common_runtime/gpu/gpu_device.cc:1247] Created TensorFlow device (/job:localhost/replica:0/task:0/device:GPU:0 with 22612 MB memory) -> physical GPU (device: 0, name: Quadro RTX 6000, pci bus id: 0000:3b:00.0, compute capability: 7.5)\n",
      "2021-12-06 00:48:37.144790: I tensorflow/core/common_runtime/gpu/gpu_device.cc:1247] Created TensorFlow device (/job:localhost/replica:0/task:0/device:GPU:1 with 22612 MB memory) -> physical GPU (device: 1, name: Quadro RTX 6000, pci bus id: 0000:af:00.0, compute capability: 7.5)\n",
      "2021-12-06 00:48:37.147467: I tensorflow/core/common_runtime/gpu/gpu_device.cc:1247] Created TensorFlow device (/job:localhost/replica:0/task:0/device:GPU:2 with 22612 MB memory) -> physical GPU (device: 2, name: Quadro RTX 6000, pci bus id: 0000:d8:00.0, compute capability: 7.5)\n",
      "2021-12-06 00:48:37.149724: I tensorflow/compiler/xla/service/service.cc:168] XLA service 0x55cfc3f55080 initialized for platform CUDA (this does not guarantee that XLA will be used). Devices:\n",
      "2021-12-06 00:48:37.149738: I tensorflow/compiler/xla/service/service.cc:176]   StreamExecutor device (0): Quadro RTX 6000, Compute Capability 7.5\n",
      "2021-12-06 00:48:37.149742: I tensorflow/compiler/xla/service/service.cc:176]   StreamExecutor device (1): Quadro RTX 6000, Compute Capability 7.5\n",
      "2021-12-06 00:48:37.149746: I tensorflow/compiler/xla/service/service.cc:176]   StreamExecutor device (2): Quadro RTX 6000, Compute Capability 7.5\n"
     ]
    },
    {
     "name": "stdout",
     "output_type": "stream",
     "text": [
      "Dnne!\n"
     ]
    }
   ],
   "source": [
    "from constants import dataset_noise\n",
    "from generator import TrainDataset\n",
    "import tensorflow as tf\n",
    "\n",
    "\n",
    "if dataset_noise:\n",
    "    from generator_NO_NOISE_REALIZATIONS import TrainDataset\n",
    "    n_noise_iterations = 1\n",
    "else: \n",
    "    from generator import TrainDataset, n_noise_iterations\n",
    "\n",
    "# Get dataset\n",
    "dataset_train = tf.data.Dataset.range(1).prefetch(1).interleave(TrainDataset, deterministic=True)\n",
    "\n",
    "# print(dataset_train.take(1))\n",
    "\n",
    "# # for data, labels in dataset_train.take(1):  # only take first element of dataset\n",
    "for data, labels in dataset_train:\n",
    "    numpy_data = data.numpy()\n",
    "    numpy_labels = labels.numpy()\n",
    "\n",
    "    break\n",
    "\n",
    "print(\"Dnne!\")"
   ]
  },
  {
   "cell_type": "code",
   "execution_count": 2,
   "metadata": {},
   "outputs": [],
   "source": [
    "from matplotlib import pyplot as plt\n",
    "import os\n",
    "\n",
    "NOISE_REALIZATION = 0\n",
    "\n",
    "plots_dir = \"/home/sstjaernholm/nuNet/common/analysis/plot_noise_realized_data/plots\"\n",
    "# os.mkdir(plots_dir)\n",
    "\n",
    "for idx, data in enumerate(numpy_data):\n",
    "    \n",
    "    idx_true = idx\n",
    "\n",
    "    idx_true_plots_dir = f\"{plots_dir}/{idx_true}_plots\"\n",
    "    if not os.path.isdir(idx_true_plots_dir):\n",
    "        os.mkdir(idx_true_plots_dir)\n",
    "\n",
    "    # Getting x axis (1 step is 0.5 ns)\n",
    "    x_axis_double = range(int(len(data[0])))\n",
    "    x_axis = [float(x)/2 for x in x_axis_double]\n",
    "\n",
    "    # Plotting\n",
    "    fig, axs = plt.subplots(5)\n",
    "    fig.suptitle(f'Plot of 4 LPDA & 1 dipole of SouthPole data for event {idx_true} in file {0} for {\"noisy\" if dataset_noise else f\"noise realized (idx {NOISE_REALIZATION})\"}')\n",
    "\n",
    "    for i in range(5):\n",
    "        axs[i].plot(x_axis, data[i])\n",
    "        axs[i].set_xlim([min(x_axis), max(x_axis)])\n",
    "        if i != 4:\n",
    "            axs[i].set_title(f'LPDA {i+1}')\n",
    "\n",
    "    axs[4].set_title('Dipole')\n",
    "\n",
    "    for ax in axs.flat:\n",
    "        ax.set(xlabel='time (ns)', ylabel=f'signal (μV)')\n",
    "\n",
    "    # Hide x labels and tick labels for top plots and y ticks for right plots.\n",
    "    for ax in axs.flat:\n",
    "        ax.label_outer()\n",
    "\n",
    "    fig.set_size_inches(12, 10)\n",
    "\n",
    "    plt.savefig(f\"{idx_true_plots_dir}/signal_file{0}_event{idx_true}{'' if dataset_noise else f'_realization{idx + NOISE_REALIZATION}'}.png\")\n",
    "\n",
    "    fig.clear()\n",
    "    plt.close(fig)\n"
   ]
  }
 ],
 "metadata": {
  "interpreter": {
   "hash": "f00e6b041018f9c5003ba88af84c1401696fe75920157f0e0f441a09854937f6"
  },
  "kernelspec": {
   "display_name": "Python 3.8.5 64-bit ('tf-gpu': conda)",
   "language": "python",
   "name": "python3"
  },
  "language_info": {
   "codemirror_mode": {
    "name": "ipython",
    "version": 3
   },
   "file_extension": ".py",
   "mimetype": "text/x-python",
   "name": "python",
   "nbconvert_exporter": "python",
   "pygments_lexer": "ipython3",
   "version": "3.8.5"
  },
  "orig_nbformat": 4
 },
 "nbformat": 4,
 "nbformat_minor": 2
}
